{
 "cells": [
  {
   "cell_type": "markdown",
   "metadata": {},
   "source": [
    "# TicTacToe Game\n",
    "\n",
    "We first set up a game which can be used for human versus human play. Then, we explain the Monte Carlo Tree Search (MCTS) algorithm and use it for human versus machine and machin vs machine plays."
   ]
  },
  {
   "cell_type": "code",
   "execution_count": null,
   "metadata": {},
   "outputs": [],
   "source": [
    "import numpy as np\n",
    "import matplotlib.pyplot as plt\n",
    "from tqdm.notebook import trange"
   ]
  },
  {
   "cell_type": "code",
   "execution_count": null,
   "metadata": {},
   "outputs": [],
   "source": [
    "players={1: \"x\", -1: \"o\", 0: \".\"}\n",
    "\n",
    "def print_state(state):\n",
    "    print(\"\\n\\t\", end=\"\")\n",
    "    print(\"\\n\\t\".join(\"  \".join([players[col] for col in row]) for row in state))\n",
    "    print()     "
   ]
  },
  {
   "cell_type": "markdown",
   "metadata": {},
   "source": [
    "## TicTacToe Game Setup\n",
    "In this setup, we play on both sides, i.e., we decide what to play as players take turn. The algorithm calculates when a player wins or there's no move to make (draw) and terminates the game."
   ]
  },
  {
   "cell_type": "code",
   "execution_count": 473,
   "metadata": {},
   "outputs": [],
   "source": [
    "class TicTacToe(object):\n",
    "    def __init__(self):\n",
    "        self.board_size = 3\n",
    "        self.first_player = 1\n",
    "\n",
    "    def init_state(self):\n",
    "        return np.zeros((self.board_size, self.board_size), dtype=np.int8)\n",
    "\n",
    "    def next_state(self, state, action, player):\n",
    "        row, col = self.coord(action)\n",
    "        state[row, col] = player\n",
    "        return state\n",
    "\n",
    "    def coord(self, action):\n",
    "        return action//self.board_size, action%self.board_size\n",
    "    \n",
    "    def opponent(self, player):\n",
    "        return -player\n",
    "\n",
    "    def won(self, state, action):\n",
    "        row, col = self.coord(action)\n",
    "        player = state[row, col]\n",
    "\n",
    "        win_sum = player * self.board_size\n",
    "        row_win = np.sum(state[row, :]) == win_sum\n",
    "        col_win = np.sum(state[:, col]) == win_sum\n",
    "        diag_win = np.sum(np.diag(state)) == win_sum\n",
    "        offdiag_win = np.sum(np.diag(np.fliplr(state))) == win_sum\n",
    "    \n",
    "        return row_win or col_win or diag_win or offdiag_win\n",
    "        \n",
    "    def available_actions(self, state):\n",
    "        return np.where(state.reshape(-1) == 0)[0]\n",
    "\n",
    "    def is_over(self, state, action):\n",
    "        '''\n",
    "        The game is over when the player wins or there is no mover left.\n",
    "        '''\n",
    "        return self.won(state, action) or (np.sum(state == 0) == 0)\n",
    "\n",
    "    def reward(self, won):\n",
    "        return 1 if won else 0\n"
   ]
  },
  {
   "cell_type": "markdown",
   "metadata": {},
   "source": [
    "### Human-Human Play"
   ]
  },
  {
   "cell_type": "code",
   "execution_count": null,
   "metadata": {},
   "outputs": [
    {
     "name": "stdout",
     "output_type": "stream",
     "text": [
      "player 'x' to play...\n",
      "\n",
      "\t.  .  .\n",
      "\t.  .  .\n",
      "\t.  .  .\n",
      "\n",
      "available_actions: [0 1 2 3 4 5 6 7 8]\n",
      "player 'o' to play...\n",
      "\n",
      "\t.  .  .\n",
      "\t.  x  .\n",
      "\t.  .  .\n",
      "\n",
      "available_actions: [0 1 2 3 5 6 7 8]\n",
      "player 'x' to play...\n",
      "\n",
      "\to  .  .\n",
      "\t.  x  .\n",
      "\t.  .  .\n",
      "\n",
      "available_actions: [1 2 3 5 6 7 8]\n",
      "player 'o' to play...\n",
      "\n",
      "\to  x  .\n",
      "\t.  x  .\n",
      "\t.  .  .\n",
      "\n",
      "available_actions: [2 3 5 6 7 8]\n",
      "player 'x' to play...\n",
      "\n",
      "\to  x  .\n",
      "\t.  x  .\n",
      "\t.  o  .\n",
      "\n",
      "available_actions: [2 3 5 6 8]\n",
      "player 'o' to play...\n",
      "\n",
      "\to  x  .\n",
      "\t.  x  .\n",
      "\tx  o  .\n",
      "\n",
      "available_actions: [2 3 5 8]\n",
      "player 'x' to play...\n",
      "\n",
      "\to  x  o\n",
      "\t.  x  .\n",
      "\tx  o  .\n",
      "\n",
      "available_actions: [3 5 8]\n",
      "player 'o' to play...\n",
      "\n",
      "\to  x  o\n",
      "\t.  x  x\n",
      "\tx  o  .\n",
      "\n",
      "available_actions: [3 8]\n",
      "player 'x' to play...\n",
      "\n",
      "\to  x  o\n",
      "\to  x  x\n",
      "\tx  o  .\n",
      "\n",
      "available_actions: [8]\n",
      "player 'o' to play...\n",
      "\n",
      "\to  x  o\n",
      "\to  x  x\n",
      "\tx  o  x\n",
      "\n",
      "available_actions: []\n",
      "draw!\n"
     ]
    }
   ],
   "source": [
    "t3 = TicTacToe()\n",
    "state = t3.init_state()\n",
    "player = t3.first_player\n",
    "\n",
    "while True:\n",
    "    print(f\"player '{players[player]}' to play...\")\n",
    "    print_state(state)\n",
    "\n",
    "    available_actions = t3.available_actions(state)\n",
    "    print(f\"available_actions: {available_actions}\")\n",
    "    \n",
    "    if len(available_actions) == 0:\n",
    "        print(\"draw!\")\n",
    "        break        \n",
    "\n",
    "    action = input(f\"provide a valid move: \")\n",
    "    action = int(action)\n",
    "    state = t3.next_state(state, action, player)\n",
    "\n",
    "    if t3.won(state, action):\n",
    "        print_state(state)\n",
    "        print(f\"player {players[player]} won!\")\n",
    "        break\n",
    "    \n",
    "    player = t3.opponent(player)\n"
   ]
  },
  {
   "cell_type": "markdown",
   "metadata": {},
   "source": [
    "# Monte Carlo Tree Search\n",
    "\n",
    "In this setion, we design a machine that can play against human or against another machine. We use Monte Carlo Tree Search (MCTS) to decide on the next move.\n",
    "\n",
    "For a machine to be able to play against itself, we design it in a way that is agnostic of the player. We can assume that the player is always player 1, and change the perspective so that the machine act as player 2. For calrification, consider the following state in a $3\\times 3$ TicTacToe game:\n",
    "\n",
    "$$\n",
    "S = \n",
    "\\begin{pmatrix}\n",
    "1 & 0 & 0 \\\\\n",
    "0 & 1 & -1 \\\\\n",
    "0 & 0 & 0\n",
    "\\end{pmatrix}\n",
    "$$\n",
    "\n",
    "Player -1 is to play. We can see this is equvalent to player 1 in state $-S$, where all elements are multiplied by $-1$. Thus, we can design MCTS algorithm which is player agnostic.\n",
    "\n",
    "The MCTS algorithms is composed of four stages as follows:\n",
    "\n",
    "1. Selection\n",
    "2. Expansion\n",
    "3. Simulation\n",
    "4. Backpropagation\n",
    "\n",
    "The input to the MCTS algorithm is the current state and the output is a probability distribution of all the possible moves. Based on the distribution, we can decide which action to take. This can be just the move with the highest probability.\n",
    "\n",
    "<center>\n",
    "<img src=\"./images/mcts.png\" width=\"400\">\n",
    "</center>\n",
    "\n",
    "From the output of the MCTS algorithm, we choose the next action as $(0, 1)$, which prevents the opponent from winning, as detected by the algorithm.\n",
    "\n",
    "The serarch tree is created as follows. We first create a root node with a given state. Then, we follow these steps:\n",
    "\n",
    "1. Check if the current node is fully expanded or not. A node is fully expanded if it has children and no action can be taken.\n",
    "2. If the node is fully expanded, we compute the Upper Confidence Bound (UCB) for each of its children and select the one with the highest UCB.\n",
    "3. Continue the process until you reach a node which is not fully expanded.\n",
    "4. Expand the node and move to the expanded node.\n",
    "5. Run a simulation from the current node to determine if the player is won. Return the reward.\n",
    "6. Run backpropagation to update the reward_sum and visit_count on all the nodes in the path from the node to the root.\n",
    "\n",
    "This process is repeated for a set number of iteration. After that we look at the immediate children of the root node and compute the probability distribution of the visit_counts. We use this distribution to determine the next move.\n",
    "\n",
    "<center>\n",
    "<img src=\"./images/mcts-algorithm.png\" width=\"500\">\n",
    "</center>\n",
    "\n",
    "We use the following formula to compute the UCB of children nodes from a parent node to find out which child to select in the selection step.\n",
    "\n",
    "$$\n",
    "\\frac{v_c}{n_c}+c\\sqrt{\\frac{\\ln n_p}{n_c}},\n",
    "$$\n",
    "\n",
    "where \n",
    "\n",
    "* $n_p$ is the visit count of the parent node $P$,\n",
    "* $n_c$ is the visit count of the child node $C$,\n",
    "* $v_c$ is the total reward (number of wins minus number of losses),\n",
    "* $c$ is the exploration factor.\n",
    "\n",
    "<center>\n",
    "<img src=\"./images/mcts-nodes.png\" width=\"200\">\n",
    "</center>\n"
   ]
  },
  {
   "cell_type": "code",
   "execution_count": 474,
   "metadata": {},
   "outputs": [],
   "source": [
    "params = {\n",
    "    \"exploratin_factor\": np.sqrt(2),\n",
    "    \"num_iters\": 1000,\n",
    "}"
   ]
  },
  {
   "cell_type": "code",
   "execution_count": 481,
   "metadata": {},
   "outputs": [],
   "source": [
    "class TicTacToe(object):\n",
    "    def __init__(self):\n",
    "        self.board_size = 3\n",
    "        self.first_player = 1\n",
    "\n",
    "    def init_state(self):\n",
    "        return np.zeros((self.board_size, self.board_size), dtype=np.int8)\n",
    "\n",
    "    def next_state(self, state, action, player):\n",
    "        row, col = self.coord(action)\n",
    "        state[row, col] = player\n",
    "        return state\n",
    "\n",
    "    def coord(self, action):\n",
    "        return action//self.board_size, action%self.board_size\n",
    "    \n",
    "    def opponent(self, player):\n",
    "        return -player\n",
    "\n",
    "    def opponent_reward(self, reward):\n",
    "        return -reward\n",
    "    \n",
    "    def neutral_perspective(self, state, player):\n",
    "        '''\n",
    "        Perspective of the first (default) player.\n",
    "        For player 1, the state is unchaged while player -1's perspective\n",
    "        of the state is reversed so as if player 1 sees the state.\n",
    "        '''\n",
    "        return player * state \n",
    "    \n",
    "    def won(self, state, action):\n",
    "        if action is None:\n",
    "            return False\n",
    "        row, col = self.coord(action)\n",
    "        player = state[row, col]\n",
    "\n",
    "        win_sum = player * self.board_size\n",
    "        row_win = np.sum(state[row, :]) == win_sum\n",
    "        col_win = np.sum(state[:, col]) == win_sum\n",
    "        diag_win = np.sum(np.diag(state)) == win_sum\n",
    "        offdiag_win = np.sum(np.diag(np.fliplr(state))) == win_sum\n",
    "    \n",
    "        return row_win or col_win or diag_win or offdiag_win\n",
    "        \n",
    "    def available_actions(self, state):\n",
    "        return np.where(state.reshape(-1) == 0)[0]\n",
    "\n",
    "    def is_over(self, state, action):\n",
    "        '''\n",
    "        The game is over when the player wins or there is no mover left.\n",
    "        '''\n",
    "        return self.won(state, action) or (np.sum(state == 0) == 0)\n",
    "\n",
    "    def reward(self, won):\n",
    "        return 1 if won else 0\n",
    "\n",
    "\n",
    "class Node(object):\n",
    "    def __init__(self, game, state, params, parent=None, parent_action=None):\n",
    "        '''\n",
    "        `parent` took `parent_action` which resulted in the current `state`.\n",
    "        '''\n",
    "        self.game = game\n",
    "        self.state = state\n",
    "        self.params = params\n",
    "        self.parent = parent\n",
    "        self.parent_action = parent_action\n",
    "\n",
    "        self.children = []\n",
    "        self.available_actions = (state.reshape(-1) == 0).astype(np.int8)\n",
    "\n",
    "        # reward reward for the current state which can be positive or negative.\n",
    "        self.reward_sum = 0\n",
    "        # number of visits at this node.\n",
    "        self.visit_count = 0\n",
    "\n",
    "    def is_fully_expanded(self):\n",
    "        '''\n",
    "        Used in the node selection. Starting from the root, we select a child node\n",
    "        which is fully expanded. We continue this process until we reach a node that\n",
    "        is not fully expanded. Then, we expand the node.\n",
    "        '''\n",
    "        return (np.sum(self.available_actions) == 0) and len(self.children) > 0\n",
    "\n",
    "    def expected_reward(self, child):\n",
    "        return -child.reward_sum / child.visit_count\n",
    "\n",
    "    def ucb(self, child):\n",
    "        '''\n",
    "        Computes the Upper Confidence Bound (UCB).\n",
    "        '''\n",
    "        exploratin_factor = self.params[\"exploratin_factor\"]\n",
    "        exploration = np.sqrt(np.log(self.visit_count) / child.visit_count)\n",
    "        return self.expected_reward(child) + exploratin_factor*exploration\n",
    "\n",
    "    def select(self):\n",
    "        k = np.argmax([self.ucb(child) for child in self.children])\n",
    "        return self.children[k]\n",
    "\n",
    "    def expand(self):\n",
    "        action = np.random.choice(np.where(self.available_actions == 1)[0])\n",
    "        # mark as explored so it won't be available anymore.\n",
    "        self.available_actions[action] = 0\n",
    "        \n",
    "        player = self.game.first_player\n",
    "        other_player = self.game.opponent(player)\n",
    "        # we assume this player is always the player 1, without loss of generality.\n",
    "        child_state = self.game.next_state(self.state.copy(), action, player=player)\n",
    "        child_state = self.game.neutral_perspective(child_state, other_player)\n",
    "        child_node = Node(self.game, child_state, self.params, self, action)\n",
    "\n",
    "        self.children.append(child_node)\n",
    "        return child_node\n",
    "\n",
    "    def simulate(self):\n",
    "        state = self.state.copy()\n",
    "        parent_action = self.parent_action\n",
    "        # We can assume the player at this node is the player 1, without loss\n",
    "        # of generality. If this player wins we return 1, if opponent wins we return\n",
    "        # -1, and if draw, we return 0.\n",
    "        player = self.game.first_player\n",
    "\n",
    "        while not self.game.is_over(state, parent_action):\n",
    "            parent_action = np.random.choice(np.where(state.reshape(-1) == 0)[0])\n",
    "            state = self.game.next_state(state, parent_action, player)\n",
    "            player = self.game.opponent(player)\n",
    "        \n",
    "        reward = self.game.reward(self.game.won(state, parent_action))\n",
    "        # `player` took `parent_action` which resulted in winning `state` so the winner is the\n",
    "        # other player and we need to rever reward.\n",
    "        reward = self.game.opponent_reward(reward)\n",
    "        return reward if player == self.game.first_player else self.game.opponent_reward(reward)                \n",
    "\n",
    "    def backward(self, reward):\n",
    "        '''\n",
    "        Backpropagate reward and visit counts from the node to the root.\n",
    "        '''\n",
    "        self.reward_sum += reward\n",
    "        self.visit_count += 1\n",
    "        # parent node is the opponent of the child node.\n",
    "        reward = self.game.opponent_reward(reward)\n",
    "        if self.parent is not None:\n",
    "            self.parent.backward(reward)\n",
    "\n",
    "\n",
    "class MCTS(object):\n",
    "    '''\n",
    "    Monte Carlo Tree Search implementation. It has no notion of players. It sees the state\n",
    "    from the perspective of alternating players in each iteration. This is useful when two\n",
    "    machines play as we can just change the perspective.\n",
    "    '''\n",
    "    def __init__(self, game, params):\n",
    "        self.game = game\n",
    "        self.params = params\n",
    "        \n",
    "    def best_policy(self, state, parent_action):\n",
    "        num_iters = self.params[\"num_iters\"]\n",
    "        root = Node(self.game, state, self.params, parent_action=parent_action)\n",
    "        \n",
    "        for _ in range(num_iters):\n",
    "            # starting from the root, select a child with the highest UCB if\n",
    "            # it's fully expanded, or expand it.\n",
    "            node = self.find_node(root)\n",
    "            reward = node.simulate()\n",
    "            node.backward(reward)\n",
    "            \n",
    "        return self.compute_policy(root)\n",
    "\n",
    "    def find_node(self, root):\n",
    "        '''\n",
    "        Starting from the root node, selects a node that is fully expanded and has highest UCB\n",
    "        until:\n",
    "            * The game is over. It return the last node. \n",
    "            * It finds a node that is not fully expanded. It expands the node and returns it.\n",
    "        '''\n",
    "        node = root\n",
    "        while not self.game.is_over(node.state, node.parent_action):\n",
    "            if not node.is_fully_expanded():\n",
    "                return node.expand()\n",
    "            node = node.select()\n",
    "        return node\n",
    "\n",
    "    def compute_policy(self, root):\n",
    "        '''\n",
    "        Returns the probability distribution of the visit counts.\n",
    "        '''\n",
    "        out = np.zeros(self.game.board_size**2)\n",
    "        for child in root.children:\n",
    "            out[child.parent_action] = child.visit_count\n",
    "        out /= np.sum(out)\n",
    "        return out        \n",
    "        "
   ]
  },
  {
   "cell_type": "markdown",
   "metadata": {},
   "source": [
    "### Human-Machine Play"
   ]
  },
  {
   "cell_type": "code",
   "execution_count": 482,
   "metadata": {},
   "outputs": [
    {
     "name": "stdout",
     "output_type": "stream",
     "text": [
      "player 'x' to play...\n",
      "\n",
      "\t.  .  .\n",
      "\t.  .  .\n",
      "\t.  .  .\n",
      "\n",
      "valid moves: [0 1 2 3 4 5 6 7 8]\n",
      "player 'o' to play...\n",
      "\n",
      "\t.  .  .\n",
      "\t.  x  .\n",
      "\t.  .  .\n",
      "\n",
      "valid moves: [0 1 2 3 5 6 7 8]\n"
     ]
    },
    {
     "data": {
      "image/png": "[encoded data removed]",
      "text/plain": [
       "<Figure size 640x480 with 1 Axes>"
      ]
     },
     "metadata": {},
     "output_type": "display_data"
    },
    {
     "name": "stdout",
     "output_type": "stream",
     "text": [
      "player 'x' to play...\n",
      "\n",
      "\t.  .  .\n",
      "\t.  x  .\n",
      "\to  .  .\n",
      "\n",
      "valid moves: [0 1 2 3 5 7 8]\n",
      "player 'o' to play...\n",
      "\n",
      "\tx  .  .\n",
      "\t.  x  .\n",
      "\to  .  .\n",
      "\n",
      "valid moves: [1 2 3 5 7 8]\n"
     ]
    },
    {
     "data": {
      "image/png": "[encoded data removed]",
      "text/plain": [
       "<Figure size 640x480 with 1 Axes>"
      ]
     },
     "metadata": {},
     "output_type": "display_data"
    },
    {
     "name": "stdout",
     "output_type": "stream",
     "text": [
      "player 'x' to play...\n",
      "\n",
      "\tx  .  .\n",
      "\t.  x  .\n",
      "\to  .  o\n",
      "\n",
      "valid moves: [1 2 3 5 7]\n",
      "player 'o' to play...\n",
      "\n",
      "\tx  .  .\n",
      "\t.  x  .\n",
      "\to  x  o\n",
      "\n",
      "valid moves: [1 2 3 5]\n"
     ]
    },
    {
     "data": {
      "image/png": "[encoded data removed]",
      "text/plain": [
       "<Figure size 640x480 with 1 Axes>"
      ]
     },
     "metadata": {},
     "output_type": "display_data"
    },
    {
     "name": "stdout",
     "output_type": "stream",
     "text": [
      "player 'x' to play...\n",
      "\n",
      "\tx  o  .\n",
      "\t.  x  .\n",
      "\to  x  o\n",
      "\n",
      "valid moves: [2 3 5]\n",
      "player 'o' to play...\n",
      "\n",
      "\tx  o  .\n",
      "\t.  x  x\n",
      "\to  x  o\n",
      "\n",
      "valid moves: [2 3]\n"
     ]
    },
    {
     "data": {
      "image/png": "[encoded data removed]",
      "text/plain": [
       "<Figure size 640x480 with 1 Axes>"
      ]
     },
     "metadata": {},
     "output_type": "display_data"
    },
    {
     "name": "stdout",
     "output_type": "stream",
     "text": [
      "player 'x' to play...\n",
      "\n",
      "\tx  o  .\n",
      "\to  x  x\n",
      "\to  x  o\n",
      "\n",
      "valid moves: [2]\n",
      "player 'o' to play...\n",
      "\n",
      "\tx  o  x\n",
      "\to  x  x\n",
      "\to  x  o\n",
      "\n",
      "valid moves: []\n",
      "draw!\n"
     ]
    }
   ],
   "source": [
    "t3 = TicTacToe()\n",
    "state = t3.init_state()\n",
    "player = t3.first_player\n",
    "\n",
    "mcts = MCTS(t3, params)\n",
    "\n",
    "while True:\n",
    "    print(f\"player '{players[player]}' to play...\")\n",
    "    print_state(state)\n",
    "\n",
    "    available_actions = t3.available_actions(state)\n",
    "    print(f\"valid moves: {available_actions}\")\n",
    "    \n",
    "    if len(available_actions) == 0:\n",
    "        print(\"draw!\")\n",
    "        break        \n",
    "\n",
    "    if player == t3.first_player:\n",
    "        action = input(f\"provide a valid move: \")\n",
    "        action = int(action)\n",
    "    else:\n",
    "        # mcts sees the state from the perspective of player 1.\n",
    "        # If it's player -1, we change the perspective.\n",
    "        neutral_state = t3.neutral_perspective(state, player)\n",
    "        policy = mcts.best_policy(neutral_state, action)\n",
    "        plt.bar(range(len(policy)), policy)\n",
    "        plt.show()\n",
    "        action = np.argmax(policy)\n",
    "\n",
    "    state = t3.next_state(state, action, player)\n",
    "\n",
    "    if t3.won(state, action):\n",
    "        print_state(state)\n",
    "        print(f\"player {players[player]} won!\")\n",
    "        break\n",
    "    \n",
    "    player = t3.opponent(player)\n"
   ]
  },
  {
   "cell_type": "markdown",
   "metadata": {},
   "source": [
    "### Machine-Machine Play"
   ]
  },
  {
   "cell_type": "code",
   "execution_count": 483,
   "metadata": {},
   "outputs": [
    {
     "name": "stdout",
     "output_type": "stream",
     "text": [
      "player 'x' to play...\n",
      "\n",
      "\t.  .  .\n",
      "\t.  .  .\n",
      "\t.  .  .\n",
      "\n",
      "available actions: [0 1 2 3 4 5 6 7 8]\n"
     ]
    },
    {
     "data": {
      "image/png": "[encoded data removed]",
      "text/plain": [
       "<Figure size 640x480 with 1 Axes>"
      ]
     },
     "metadata": {},
     "output_type": "display_data"
    },
    {
     "name": "stdout",
     "output_type": "stream",
     "text": [
      "player 'o' to play...\n",
      "\n",
      "\t.  .  .\n",
      "\t.  x  .\n",
      "\t.  .  .\n",
      "\n",
      "available actions: [0 1 2 3 5 6 7 8]\n"
     ]
    },
    {
     "data": {
      "image/png": "[encoded data removed]",
      "text/plain": [
       "<Figure size 640x480 with 1 Axes>"
      ]
     },
     "metadata": {},
     "output_type": "display_data"
    },
    {
     "name": "stdout",
     "output_type": "stream",
     "text": [
      "player 'x' to play...\n",
      "\n",
      "\t.  .  .\n",
      "\t.  x  .\n",
      "\t.  .  o\n",
      "\n",
      "available actions: [0 1 2 3 5 6 7]\n"
     ]
    },
    {
     "data": {
      "image/png": "[encoded data removed]",
      "text/plain": [
       "<Figure size 640x480 with 1 Axes>"
      ]
     },
     "metadata": {},
     "output_type": "display_data"
    },
    {
     "name": "stdout",
     "output_type": "stream",
     "text": [
      "player 'o' to play...\n",
      "\n",
      "\t.  .  .\n",
      "\t.  x  x\n",
      "\t.  .  o\n",
      "\n",
      "available actions: [0 1 2 3 6 7]\n"
     ]
    },
    {
     "data": {
      "image/png": "[encoded data removed]",
      "text/plain": [
       "<Figure size 640x480 with 1 Axes>"
      ]
     },
     "metadata": {},
     "output_type": "display_data"
    },
    {
     "name": "stdout",
     "output_type": "stream",
     "text": [
      "player 'x' to play...\n",
      "\n",
      "\t.  .  .\n",
      "\to  x  x\n",
      "\t.  .  o\n",
      "\n",
      "available actions: [0 1 2 6 7]\n"
     ]
    },
    {
     "data": {
      "image/png": "[encoded data removed]",
      "text/plain": [
       "<Figure size 640x480 with 1 Axes>"
      ]
     },
     "metadata": {},
     "output_type": "display_data"
    },
    {
     "name": "stdout",
     "output_type": "stream",
     "text": [
      "player 'o' to play...\n",
      "\n",
      "\t.  .  .\n",
      "\to  x  x\n",
      "\t.  x  o\n",
      "\n",
      "available actions: [0 1 2 6]\n"
     ]
    },
    {
     "data": {
      "image/png": "[encoded data removed]",
      "text/plain": [
       "<Figure size 640x480 with 1 Axes>"
      ]
     },
     "metadata": {},
     "output_type": "display_data"
    },
    {
     "name": "stdout",
     "output_type": "stream",
     "text": [
      "player 'x' to play...\n",
      "\n",
      "\t.  o  .\n",
      "\to  x  x\n",
      "\t.  x  o\n",
      "\n",
      "available actions: [0 2 6]\n"
     ]
    },
    {
     "data": {
      "image/png": "[encoded data removed]",
      "text/plain": [
       "<Figure size 640x480 with 1 Axes>"
      ]
     },
     "metadata": {},
     "output_type": "display_data"
    },
    {
     "name": "stdout",
     "output_type": "stream",
     "text": [
      "player 'o' to play...\n",
      "\n",
      "\t.  o  .\n",
      "\to  x  x\n",
      "\tx  x  o\n",
      "\n",
      "available actions: [0 2]\n"
     ]
    },
    {
     "data": {
      "image/png": "[encoded data removed]",
      "text/plain": [
       "<Figure size 640x480 with 1 Axes>"
      ]
     },
     "metadata": {},
     "output_type": "display_data"
    },
    {
     "name": "stdout",
     "output_type": "stream",
     "text": [
      "player 'x' to play...\n",
      "\n",
      "\t.  o  o\n",
      "\to  x  x\n",
      "\tx  x  o\n",
      "\n",
      "available actions: [0]\n"
     ]
    },
    {
     "data": {
      "image/png": "[encoded data removed]",
      "text/plain": [
       "<Figure size 640x480 with 1 Axes>"
      ]
     },
     "metadata": {},
     "output_type": "display_data"
    },
    {
     "name": "stdout",
     "output_type": "stream",
     "text": [
      "player 'o' to play...\n",
      "\n",
      "\tx  o  o\n",
      "\to  x  x\n",
      "\tx  x  o\n",
      "\n",
      "available actions: []\n",
      "draw!\n"
     ]
    }
   ],
   "source": [
    "t3 = TicTacToe()\n",
    "state = t3.init_state()\n",
    "player = t3.first_player\n",
    "action = None\n",
    "\n",
    "mcts = MCTS(t3, params)\n",
    "\n",
    "while True:\n",
    "    print(f\"player '{players[player]}' to play...\")\n",
    "    print_state(state)\n",
    "\n",
    "    available_actions = t3.available_actions(state)\n",
    "    print(f\"available actions: {available_actions}\")\n",
    "    \n",
    "    if len(available_actions) == 0:\n",
    "        print(\"draw!\")\n",
    "        break        \n",
    "    \n",
    "    neutral_state = t3.neutral_perspective(state, player)\n",
    "    policy = mcts.best_policy(neutral_state, action)\n",
    "    plt.bar(range(len(policy)), policy)\n",
    "    plt.show()\n",
    "    action = np.argmax(policy)\n",
    "\n",
    "    state = t3.next_state(state, action, player)\n",
    "\n",
    "    if t3.won(state, action):\n",
    "        print_state(state)\n",
    "        print(f\"player {players[player]} won!\")\n",
    "        break\n",
    "    \n",
    "    player = t3.opponent(player)"
   ]
  },
  {
   "cell_type": "markdown",
   "metadata": {},
   "source": [
    "# MCTS with Neural Networks\n",
    "\n",
    "We modify the tree search by replacing the simulation step with a neural network which returns a policy and a reward for a given state. The serarch tree is created as follows. We first create a root node with a given state. Then, we follow these steps:\n",
    "\n",
    "1. As long as the node has children, compute the Upper Confidence Bound (UCB) for each of its children and select the one with the highest UCB. Repeat this until you reach a leaf node.\n",
    "2. Given the current node state, run a convolutional neural network (CNN) to get the policy and reward.\n",
    "3. Fully expand this leaf node using the policy.\n",
    "4. Using the reward, run the backpropagation to update the reward_sum and visit_count on all the nodes in the path from the node to the root.\n",
    "\n",
    "This process is repeated for a set number of iteration. After that we look at the immediate children of the root node and compute the probability distribution of the visit_counts. We use this distribution to determine the next move.\n",
    "\n",
    "<center>\n",
    "<img src=\"./images/mcts-cnn-algorithm.png\" width=\"500\">\n",
    "</center>\n",
    "\n",
    "We use the following formula to compute the UCB of children nodes from a parent node to find out which child to select in the selection step.\n",
    "\n",
    "$$\n",
    "\\frac{v_c}{n_c}+cp_c\\frac{\\sqrt{n_p}}{1 + n_c},\n",
    "$$\n",
    "\n",
    "where \n",
    "\n",
    "* $n_p$ is the visit count of the parent node $P$,\n",
    "* $n_c$ is the visit count of the child node $C$,\n",
    "* $v_c$ is the total reward (number of wins minus number of losses),\n",
    "* $p_c$ is the prior probability provided by the policy from the CNN model for the child node state, \n",
    "* $c$ is the exploration factor."
   ]
  },
  {
   "cell_type": "markdown",
   "metadata": {},
   "source": [
    "## CNN Model\n",
    "\n",
    "The neural network learns the following function which maps a state $S$ to a policy-reward pair $(P, R)$:\n",
    "\n",
    "$$\n",
    "f(S) = (P, R).\n",
    "$$\n",
    "\n",
    "The policy $P$ is a probability distribution of all possible next states from $S$ and $v$ is reward in $(-1, 1)$ which is interpreted as reward. Rewards close to $1$ indicates winning, while rewards close to $-1$ indicates losing. The rewards close to $0$ is interpreted as a drawish situation.\n",
    "\n",
    "We use convolutional neural networks (CNN) and interpret a state as an image. We use one-hot encoding for possible rewards $\\{-1, 0, 1\\}$ of each cell in a given state. So, let's define:\n",
    "\n",
    "* $-1$: $[1, 0 ,0]$\n",
    "* $\\phantom{-}0$: $[0, 1 ,0]$\n",
    "* $\\phantom{-}1$: $[0, 0 ,1]$\n",
    "\n",
    "As a result, we have a 3D input of size $3\\times 3\\times 3$ for a given state.\n",
    "\n",
    "Then, we build multiple convolutional layers followed by two head as follows:\n",
    "\n",
    "* **Policy Head:** The output layer size in this head is the number of possible next states. We apply softmax on the output layer to obtain a probability distribution which can be used to decide the next move.\n",
    "* **Reward Head:** the output layer size in this head is one. We apply `Tanh` activation function to get a reward in $(-1, 1)$ representing a reward for the input state $S$. The reward is the model evaluation of a given state.\n",
    "\n",
    "<center>\n",
    "<img src=\"./images/tictactoe-cnn-model.png\" width=600>\n",
    "</center>\n",
    "\n",
    "As we can see, we encode the current state and feed into the ResNet model which consists of multiple blocks arranged sequentially. A single block of the ResNet model consists of convolutional and batch normalization layers and ReLU activations as follows. Note that a skip connection is also added to the block.\n",
    "\n",
    "<center>\n",
    "<img src=\"./images/resnet-block.png\" width=200>\n",
    "</center>"
   ]
  },
  {
   "cell_type": "code",
   "execution_count": 419,
   "metadata": {},
   "outputs": [],
   "source": [
    "import torch\n",
    "import torch.nn as nn\n",
    "import torch.nn.functional as F"
   ]
  },
  {
   "cell_type": "code",
   "execution_count": 467,
   "metadata": {},
   "outputs": [],
   "source": [
    "params = {\n",
    "    \"exploratin_factor\": 2,\n",
    "    \"num_iters\": 1000,\n",
    "    \"kernel_size\": 3,\n",
    "    \"padding\": 1,\n",
    "    \"embd_size\": 3,\n",
    "    \"hidden_size\": 64,\n",
    "    \"num_blocks\": 4,\n",
    "    \"num_epochs\": 1000,\n",
    "    \"batch_size\": 64,\n",
    "    \"num_self_plays\": 500,\n",
    "    \"load_data\": True,\n",
    "    \"load_model\": True,\n",
    "    \"device\": torch.device(\"cuda\" if torch.cuda.is_available() else \"cpu\")    \n",
    "}"
   ]
  },
  {
   "cell_type": "code",
   "execution_count": 453,
   "metadata": {},
   "outputs": [],
   "source": [
    "class ResBlock(nn.Module):\n",
    "    def __init__(self, hidden_size, params):\n",
    "        super().__init__()\n",
    "        kernel_size = params[\"kernel_size\"]\n",
    "        padding = params[\"padding\"]\n",
    "\n",
    "        self. res_block = nn.Sequential(\n",
    "            nn.Conv2d(hidden_size, hidden_size, kernel_size=kernel_size, padding=padding),\n",
    "            nn.BatchNorm2d(hidden_size),\n",
    "            nn.ReLU(),\n",
    "            nn.Conv2d(hidden_size, hidden_size, kernel_size=kernel_size, padding=padding),\n",
    "            nn.BatchNorm2d(hidden_size)\n",
    "        )\n",
    "        \n",
    "    def forward(self, x):\n",
    "        out = x + self.res_block(x)\n",
    "        out = F.relu(out)\n",
    "        return out\n",
    "    \n",
    "class ResNet(nn.Module):\n",
    "    def __init__(self, board_size, embd_size, hidden_size, num_blocks, params):\n",
    "        super().__init__()\n",
    "        kernel_size = params[\"kernel_size\"]\n",
    "        padding = params[\"padding\"]\n",
    "\n",
    "        self.start_block = nn.Sequential(\n",
    "            nn.Conv2d(embd_size, hidden_size, kernel_size=kernel_size, padding=padding),\n",
    "            nn.BatchNorm2d(hidden_size),\n",
    "            nn.ReLU()\n",
    "        )\n",
    "        \n",
    "        self.res_blocks = nn.ModuleList(\n",
    "            [ResBlock(hidden_size, params) for _ in range(num_blocks)]\n",
    "        )\n",
    "        \n",
    "        self.policy_head = nn.Sequential(\n",
    "            nn.Conv2d(hidden_size, embd_size, kernel_size=kernel_size, padding=padding),\n",
    "            nn.BatchNorm2d(embd_size),\n",
    "            nn.ReLU(),\n",
    "            nn.Flatten(),\n",
    "            nn.Linear(embd_size * board_size**2, board_size**2)\n",
    "        )\n",
    "        \n",
    "        self.reward_head = nn.Sequential(\n",
    "            nn.Conv2d(hidden_size, embd_size, kernel_size=kernel_size, padding=padding),\n",
    "            nn.BatchNorm2d(embd_size),\n",
    "            nn.ReLU(),\n",
    "            nn.Flatten(),\n",
    "            nn.Linear(embd_size * board_size**2, 1),\n",
    "            nn.Tanh()            \n",
    "        )\n",
    "        \n",
    "    def forward(self, x):\n",
    "        '''\n",
    "        Input x is a 4D tensor of size (batch_size, embd_size, height, width).\n",
    "        '''\n",
    "        out = self.start_block(x)\n",
    "        \n",
    "        for res_block in self.res_blocks:\n",
    "            out = res_block(out)\n",
    "            \n",
    "        policy_logit = self.policy_head(out)\n",
    "        reward = self.reward_head(out)\n",
    "        \n",
    "        return policy_logit, reward"
   ]
  },
  {
   "cell_type": "code",
   "execution_count": 454,
   "metadata": {},
   "outputs": [],
   "source": [
    "def encode_state(state):\n",
    "    # m, n = state.shape\n",
    "    # the output shape is 3 x m x n\n",
    "    return np.stack(\n",
    "        [state == 1, state == 0, state == -1]\n",
    "    ).astype(np.float32)\n",
    "\n",
    "def decode_state(state):\n",
    "    # 1 * state[0] + 0 * state[1] + (-1) * state[2]\n",
    "    return state[0]-state[2]\n",
    "    \n",
    "def get_policy(logit, state):\n",
    "    # B, C = logit.shape, where B is the batch size and C is \n",
    "    # the number of classes (states).\n",
    "    # mark illegal moves as -inf so they vanish after softmax\n",
    "    logit[:, state.reshape(-1) != 0] = float(\"-inf\")\n",
    "    policy = F.softmax(logit, dim=1)\n",
    "    return policy"
   ]
  },
  {
   "cell_type": "code",
   "execution_count": 456,
   "metadata": {},
   "outputs": [],
   "source": [
    "class TicTacToe(object):\n",
    "    def __init__(self):\n",
    "        self.board_size = 3\n",
    "        self.first_player = 1\n",
    "\n",
    "    def init_state(self):\n",
    "        return np.zeros((self.board_size, self.board_size), dtype=np.int8)\n",
    "\n",
    "    def next_state(self, state, action, player):\n",
    "        row, col = self.coord(action)\n",
    "        state[row, col] = player\n",
    "        return state\n",
    "\n",
    "    def coord(self, action):\n",
    "        return action//self.board_size, action%self.board_size\n",
    "    \n",
    "    def won(self, state, action):\n",
    "        if action is None:\n",
    "            return False\n",
    "        row, col = self.coord(action)\n",
    "        player = state[row, col]\n",
    "\n",
    "        win_sum = player * self.board_size\n",
    "        row_win = np.sum(state[row, :]) == win_sum\n",
    "        col_win = np.sum(state[:, col]) == win_sum\n",
    "        diag_win = np.sum(np.diag(state)) == win_sum\n",
    "        offdiag_win = np.sum(np.diag(np.fliplr(state))) == win_sum\n",
    "    \n",
    "        return row_win or col_win or diag_win or offdiag_win\n",
    "    \n",
    "    def opponent(self, player):\n",
    "        return -player\n",
    "\n",
    "    def opponent_reward(self, reward):\n",
    "        return -reward\n",
    "    \n",
    "    def neutral_perspective(self, state, player):\n",
    "        '''\n",
    "        Perspective of the first (default) player.\n",
    "        For player 1, the state is unchaged while player -1's perspective\n",
    "        of the state is reversed so as if player 1 sees the state.\n",
    "        '''\n",
    "        return player * state \n",
    "    \n",
    "    def available_actions(self, state):\n",
    "        return np.where(state.reshape(-1) == 0)[0]\n",
    "\n",
    "    def is_over(self, state, action):\n",
    "        '''\n",
    "        The game is over when the player wins or there is no mover left.\n",
    "        '''\n",
    "        return self.won(state, action) or (np.sum(state == 0) == 0)\n",
    "\n",
    "    def reward(self, won):\n",
    "        return 1 if won else 0\n",
    "\n",
    "\n",
    "class Node(object):\n",
    "    def __init__(self, game, state, params, parent=None, parent_action=None, prior_prob=0):\n",
    "        '''\n",
    "        `parent` took `parent_action` which resulted in the current `state`.\n",
    "        The `parent_action` had `prior_prob` among all possible actions.\n",
    "        '''\n",
    "        self.game = game\n",
    "        self.state = state\n",
    "        self.params = params\n",
    "        self.parent = parent\n",
    "        self.parent_action = parent_action\n",
    "        self.prior_prob = prior_prob\n",
    "\n",
    "        self.children = []\n",
    "\n",
    "        # reward reward for the current state which can be positive or negative.\n",
    "        self.reward_sum = 0\n",
    "        # number of visits at this node.\n",
    "        self.visit_count = 0\n",
    "\n",
    "    def is_fully_expanded(self):\n",
    "        return len(self.children) > 0\n",
    "\n",
    "    def expected_reward(self, child):\n",
    "        if child.visit_count == 0:\n",
    "            return 0\n",
    "        return -child.reward_sum / child.visit_count\n",
    "\n",
    "    def ucb(self, child):\n",
    "        '''\n",
    "        Computes the Upper Confidence Bound (UCB).\n",
    "        '''\n",
    "        exploratin_factor = self.params[\"exploratin_factor\"]\n",
    "        exploration = np.sqrt(self.visit_count) / (1 + child.visit_count)\n",
    "        return self.expected_reward(child) + exploratin_factor*child.prior_prob*exploration\n",
    "\n",
    "    def select(self):\n",
    "        k = np.argmax([self.ucb(child) for child in self.children])\n",
    "        return self.children[k]\n",
    "\n",
    "    def expand(self, policy):\n",
    "        for action, prob in enumerate(policy):\n",
    "            if prob == 0:\n",
    "                continue\n",
    "            player = self.game.first_player\n",
    "            other_player = self.game.opponent(player)\n",
    "            # we assume this player is always the player 1, without loss of generality.\n",
    "            child_state = self.game.next_state(self.state.copy(), action, player=player)\n",
    "            child_state = self.game.neutral_perspective(child_state, other_player)\n",
    "            child_node = Node(self.game, child_state, self.params, self, action, prob)\n",
    "            self.children.append(child_node)\n",
    "\n",
    "    def backward(self, reward):\n",
    "        '''\n",
    "        Backpropagate reward and visit counts from the node to the root.\n",
    "        '''\n",
    "        self.reward_sum += reward\n",
    "        self.visit_count += 1\n",
    "        # parent node is the opponent of the child node.\n",
    "        reward = self.game.opponent_reward(reward)\n",
    "        if self.parent is not None:\n",
    "            self.parent.backward(reward)\n",
    "\n",
    "\n",
    "class MCTS(object):\n",
    "    '''\n",
    "    Monte Carlo Tree Search (MCTS) implementation with neural networks. It replaces\n",
    "    the simulation step with a convolutional neural network (CNN) which gets a state\n",
    "    and return a policy and a reward.\n",
    "    \n",
    "    It has no notion of players. It sees the state from the perspective of alternating\n",
    "    players in each iteration. This is useful when two machines play as we can just\n",
    "    change the perspective.\n",
    "    '''\n",
    "    def __init__(self, game, model, params):\n",
    "        self.game = game\n",
    "        self.params = params\n",
    "        self.model = model\n",
    "    \n",
    "    @torch.no_grad()    \n",
    "    def best_policy(self, state):\n",
    "        num_iters = self.params[\"num_iters\"]\n",
    "        root = Node(self.game, state, self.params)\n",
    "  \n",
    "        for _ in range(num_iters):\n",
    "            # starting from the root, select a child with highest UCB if it's fully expanded, \n",
    "            # or expand it.\n",
    "            node = root\n",
    "            while node.is_fully_expanded():\n",
    "                node = node.select()\n",
    "\n",
    "            if not self.game.is_over(node.state, node.parent_action):\n",
    "                enc_state = encode_state(node.state)\n",
    "                enc_state = torch.tensor(enc_state).unsqueeze(0).to(self.params[\"device\"])\n",
    "\n",
    "                logit, reward = self.model(enc_state)\n",
    "\n",
    "                reward = reward.item()\n",
    "                policy = get_policy(logit, node.state)  \n",
    "                policy = policy.squeeze(0).detach().cpu().numpy()              \n",
    "\n",
    "                node.expand(policy)\n",
    "            else:\n",
    "                won = self.game.won(node.state, node.parent_action)\n",
    "                reward = self.game.reward(won)\n",
    "                reward = self.game.opponent_reward(reward)\n",
    "\n",
    "            node.backward(reward)\n",
    "            \n",
    "        return self.compute_policy(root)\n",
    "\n",
    "    def compute_policy(self, root):\n",
    "        '''\n",
    "        Returns the probability distribution of the visit counts.\n",
    "        '''\n",
    "        out = np.zeros(self.game.board_size**2)\n",
    "        for child in root.children:\n",
    "            out[child.parent_action] = child.visit_count\n",
    "        out /= np.sum(out)\n",
    "        return out        \n",
    "        "
   ]
  },
  {
   "cell_type": "markdown",
   "metadata": {},
   "source": [
    "## Self-Play and Training Dataset\n",
    "\n",
    "We now devise an algorithm to generate training dataset for the CNN model. As we demonstrated before, the machine can play against itself (self-play) starting from random moves. We collect the following data from self-plays as our training dataset. In particular, we collect the following features frm the final state of each self-play:\n",
    "\n",
    "* State\n",
    "* Policy\n",
    "* Reward\n",
    "\n",
    "The training dataset will be used to train a CNN model that optimizes loss functions for policy and reward."
   ]
  },
  {
   "cell_type": "code",
   "execution_count": 457,
   "metadata": {},
   "outputs": [],
   "source": [
    "def generate_data(mcts):\n",
    "    t3 = mcts.game    \n",
    "    player = t3.first_player\n",
    "    state, reward = t3.init_state(), 0\n",
    "    states, policies, players = [], [], []\n",
    "\n",
    "    while True:\n",
    "        available_actions = t3.available_actions(state)\n",
    "        if len(available_actions) == 0:\n",
    "            break        \n",
    "        \n",
    "        players.append(player)\n",
    "\n",
    "        neutral_state = t3.neutral_perspective(state, player)\n",
    "        states.append(encode_state(neutral_state))\n",
    "\n",
    "        policy = mcts.best_policy(neutral_state)\n",
    "        policies.append(policy)\n",
    "        \n",
    "        action = np.random.choice(len(policy), p=policy)\n",
    "        # action = np.argmax(policy)\n",
    "        state = t3.next_state(state, action, player)\n",
    "\n",
    "        if t3.won(state, action):\n",
    "            # Get default winning value as reward\n",
    "            reward = t3.reward(True)\n",
    "            break\n",
    "        \n",
    "        player = t3.opponent(player)\n",
    "\n",
    "    rewards = [reward if p == player else t3.opponent_reward(reward) for p in players]\n",
    "    return states, policies, rewards\n",
    "\n",
    "    # rewards = np.full(len(states), reward)\n",
    "    # if reward != 0:\n",
    "    #     # rewards list should be alternating 1, -1 ending to 1 \n",
    "    #     rewards[len(states)%2::2] = t3.opponent_reward(reward)\n",
    "    # return states, policies, rewards.tolist()\n",
    "\n",
    "\n",
    "def generate_dataset(mcts, num_self_plays):\n",
    "    states, policies, rewards = [], [], []\n",
    "\n",
    "    for _ in trange(num_self_plays):\n",
    "        s, p, r = generate_data(mcts)\n",
    "        states.extend(s)\n",
    "        policies.extend(p)\n",
    "        rewards.extend(r)\n",
    "\n",
    "    return np.array(states), np.array(policies), np.array(rewards)"
   ]
  },
  {
   "cell_type": "markdown",
   "metadata": {},
   "source": [
    "## Untrained Model Result\n",
    "\n",
    "As we can see in the following, the untrained model prediction is random and the policy is almost uniformly distributed for a winning state. We will train the model and do the same examination to test how the model learned."
   ]
  },
  {
   "cell_type": "code",
   "execution_count": 432,
   "metadata": {},
   "outputs": [
    {
     "name": "stdout",
     "output_type": "stream",
     "text": [
      "state:\n",
      "\n",
      "\t.  .  o\n",
      "\t.  o  .\n",
      "\tx  .  x\n",
      "\n",
      "reward: 0.1590816229581833\n",
      "policy bar plot:\n"
     ]
    },
    {
     "data": {
      "image/png": "[encoded data removed]",
      "text/plain": [
       "<Figure size 640x480 with 1 Axes>"
      ]
     },
     "metadata": {},
     "output_type": "display_data"
    }
   ],
   "source": [
    "t3 = TicTacToe()\n",
    "\n",
    "model = ResNet(\n",
    "    t3.board_size, \n",
    "    embd_size=params[\"embd_size\"], \n",
    "    hidden_size=params[\"hidden_size\"], \n",
    "    num_blocks=params[\"num_blocks\"],\n",
    "    params=params).to(device=params[\"device\"])\n",
    "\n",
    "model.eval()\n",
    "\n",
    "state = t3.init_state()\n",
    "state = t3.next_state(state, 6, 1)\n",
    "state = t3.next_state(state, 4, -1)\n",
    "state = t3.next_state(state, 8, 1)\n",
    "state = t3.next_state(state, 2, -1)\n",
    "\n",
    "enc_state = encode_state(state)\n",
    "enc_state = torch.tensor(enc_state, dtype=torch.float32).unsqueeze(0)\n",
    "\n",
    "policy, reward = model(enc_state)\n",
    "policy = F.softmax(policy, dim=1).squeeze(0).detach().cpu().numpy()\n",
    "\n",
    "print(\"state:\")\n",
    "print_state(state)\n",
    "print(f\"reward: {reward.item()}\")\n",
    "print(\"policy bar plot:\")\n",
    "plt.bar(range(len(policy)), policy)\n",
    "plt.show()"
   ]
  },
  {
   "cell_type": "markdown",
   "metadata": {},
   "source": [
    "In the following, we run the MCTS algorithm on an untrained model. This is equvalent of the simulation we previously performed. As we can see, the machine plays well.\n",
    "\n",
    "We will train a model and test it without the simulation to see how it performs."
   ]
  },
  {
   "cell_type": "code",
   "execution_count": 433,
   "metadata": {},
   "outputs": [
    {
     "name": "stdout",
     "output_type": "stream",
     "text": [
      "state:\n",
      "\n",
      "\t.  .  .\n",
      "\t.  .  .\n",
      "\t.  .  .\n",
      "\n",
      "reward: 0\n",
      "policy bar plot:\n"
     ]
    },
    {
     "data": {
      "image/png": "[encoded data removed]",
      "text/plain": [
       "<Figure size 640x480 with 1 Axes>"
      ]
     },
     "metadata": {},
     "output_type": "display_data"
    },
    {
     "name": "stdout",
     "output_type": "stream",
     "text": [
      "state:\n",
      "\n",
      "\t.  .  o\n",
      "\t.  .  .\n",
      "\t.  .  .\n",
      "\n",
      "reward: 0\n",
      "policy bar plot:\n"
     ]
    },
    {
     "data": {
      "image/png": "[encoded data removed]",
      "text/plain": [
       "<Figure size 640x480 with 1 Axes>"
      ]
     },
     "metadata": {},
     "output_type": "display_data"
    },
    {
     "name": "stdout",
     "output_type": "stream",
     "text": [
      "state:\n",
      "\n",
      "\t.  .  x\n",
      "\t.  o  .\n",
      "\t.  .  .\n",
      "\n",
      "reward: 0\n",
      "policy bar plot:\n"
     ]
    },
    {
     "data": {
      "image/png": "[encoded data removed]",
      "text/plain": [
       "<Figure size 640x480 with 1 Axes>"
      ]
     },
     "metadata": {},
     "output_type": "display_data"
    },
    {
     "name": "stdout",
     "output_type": "stream",
     "text": [
      "state:\n",
      "\n",
      "\t.  .  o\n",
      "\t.  x  o\n",
      "\t.  .  .\n",
      "\n",
      "reward: 0\n",
      "policy bar plot:\n"
     ]
    },
    {
     "data": {
      "image/png": "[encoded data removed]",
      "text/plain": [
       "<Figure size 640x480 with 1 Axes>"
      ]
     },
     "metadata": {},
     "output_type": "display_data"
    },
    {
     "name": "stdout",
     "output_type": "stream",
     "text": [
      "state:\n",
      "\n",
      "\t.  .  x\n",
      "\t.  o  x\n",
      "\t.  .  o\n",
      "\n",
      "reward: 0\n",
      "policy bar plot:\n"
     ]
    },
    {
     "data": {
      "image/png": "[encoded data removed]",
      "text/plain": [
       "<Figure size 640x480 with 1 Axes>"
      ]
     },
     "metadata": {},
     "output_type": "display_data"
    },
    {
     "name": "stdout",
     "output_type": "stream",
     "text": [
      "state:\n",
      "\n",
      "\to  .  o\n",
      "\t.  x  o\n",
      "\t.  .  x\n",
      "\n",
      "reward: 0\n",
      "policy bar plot:\n"
     ]
    },
    {
     "data": {
      "image/png": "[encoded data removed]",
      "text/plain": [
       "<Figure size 640x480 with 1 Axes>"
      ]
     },
     "metadata": {},
     "output_type": "display_data"
    },
    {
     "name": "stdout",
     "output_type": "stream",
     "text": [
      "state:\n",
      "\n",
      "\tx  o  x\n",
      "\t.  o  x\n",
      "\t.  .  o\n",
      "\n",
      "reward: 0\n",
      "policy bar plot:\n"
     ]
    },
    {
     "data": {
      "image/png": "[encoded data removed]",
      "text/plain": [
       "<Figure size 640x480 with 1 Axes>"
      ]
     },
     "metadata": {},
     "output_type": "display_data"
    },
    {
     "name": "stdout",
     "output_type": "stream",
     "text": [
      "state:\n",
      "\n",
      "\to  x  o\n",
      "\t.  x  o\n",
      "\t.  o  x\n",
      "\n",
      "reward: 0\n",
      "policy bar plot:\n"
     ]
    },
    {
     "data": {
      "image/png": "[encoded data removed]",
      "text/plain": [
       "<Figure size 640x480 with 1 Axes>"
      ]
     },
     "metadata": {},
     "output_type": "display_data"
    },
    {
     "name": "stdout",
     "output_type": "stream",
     "text": [
      "state:\n",
      "\n",
      "\tx  o  x\n",
      "\t.  o  x\n",
      "\to  x  o\n",
      "\n",
      "reward: 0\n",
      "policy bar plot:\n"
     ]
    },
    {
     "data": {
      "image/png": "[encoded data removed]",
      "text/plain": [
       "<Figure size 640x480 with 1 Axes>"
      ]
     },
     "metadata": {},
     "output_type": "display_data"
    }
   ],
   "source": [
    "t3 = TicTacToe()\n",
    "\n",
    "model = ResNet(\n",
    "    t3.board_size, \n",
    "    embd_size=params[\"embd_size\"], \n",
    "    hidden_size=params[\"hidden_size\"], \n",
    "    num_blocks=params[\"num_blocks\"],\n",
    "    params=params).to(device=params[\"device\"])\n",
    "\n",
    "if params[\"load_model\"]:\n",
    "    check_point = torch.load(f\"./models/model_{params[\"num_epochs\"]}.pt\")\n",
    "    model.load_state_dict(check_point[\"model\"])\n",
    "    model.eval()\n",
    "\n",
    "mcts = MCTS(t3, model, params)\n",
    "\n",
    "states, policies, rewards = generate_data(mcts)\n",
    "\n",
    "for state, policy, reward in zip(states, policies, rewards):\n",
    "    print(\"state:\")\n",
    "    print_state(decode_state(state))\n",
    "    print(f\"reward: {reward}\")\n",
    "    print(\"policy bar plot:\")\n",
    "    plt.bar(range(len(policy)), policy)\n",
    "    plt.show()"
   ]
  },
  {
   "cell_type": "markdown",
   "metadata": {},
   "source": [
    "## CNN Model Training"
   ]
  },
  {
   "cell_type": "code",
   "execution_count": 458,
   "metadata": {},
   "outputs": [],
   "source": [
    "class Loss(object):\n",
    "    def __init__(self):\n",
    "        self.train = []\n",
    "        self.eval = []\n",
    "\n",
    "class Losses(object):\n",
    "    def __init__(self):\n",
    "        self.policy = Loss()\n",
    "        self.reward = Loss()\n",
    "\n",
    "@torch.no_grad()\n",
    "def evaluate_model(model, data, losses):\n",
    "    model.eval()\n",
    "\n",
    "    states, policies, rewards = data\n",
    "    target_states = torch.tensor(states, dtype=torch.float32)\n",
    "    target_policies = torch.tensor(policies, dtype=torch.float32)\n",
    "    target_rewards = torch.tensor(rewards, dtype=torch.float32).unsqueeze(1)\n",
    "\n",
    "    pred_policies, pred_rewards = model(target_states)  \n",
    "    pred_policies = F.softmax(pred_policies, dim=1)\n",
    "\n",
    "    policy_loss = F.cross_entropy(pred_policies, target_policies)\n",
    "    reward_loss = F.mse_loss(pred_rewards, target_rewards)\n",
    "    \n",
    "    losses.policy.eval.append(policy_loss.item())\n",
    "    losses.reward.eval.append(reward_loss.item())\n",
    "\n",
    "def train_model(model, optimizer, train_data, eval_data, params, losses=None, num_models_to_save=1):\n",
    "    num_epochs = params[\"num_epochs\"]\n",
    "    device = params[\"device\"]\n",
    "    batch_size = params[\"batch_size\"]\n",
    "    \n",
    "    if losses is None:\n",
    "        losses = Losses()\n",
    "\n",
    "    states, policies, rewards = train_data\n",
    "\n",
    "    for epoch in trange(num_epochs):\n",
    "        model.train()\n",
    "        batch_indices = np.random.choice(len(states), batch_size)\n",
    "\n",
    "        target_states = torch.tensor(states[batch_indices], dtype=torch.float32, device=device)\n",
    "        target_policies = torch.tensor(policies[batch_indices], dtype=torch.float32, device=device)\n",
    "        target_rewards = torch.tensor(rewards[batch_indices], dtype=torch.float32, device=device).unsqueeze(1)\n",
    "\n",
    "        pred_policies, pred_rewards = model(target_states)\n",
    "        pred_policies = F.softmax(pred_policies, dim=1)\n",
    "\n",
    "        policy_loss = F.cross_entropy(pred_policies, target_policies)\n",
    "        reward_loss = F.mse_loss(pred_rewards, target_rewards)\n",
    "        \n",
    "        optimizer.zero_grad(set_to_none=True)\n",
    "        policy_loss.backward(retain_graph=True)\n",
    "        reward_loss.backward()\n",
    "        optimizer.step()\n",
    "\n",
    "        losses.policy.train.append(policy_loss.item())\n",
    "        losses.reward.train.append(reward_loss.item())\n",
    "        \n",
    "        if (epoch+1) % int(num_epochs / num_models_to_save) == 0:\n",
    "            checkpoint = {\n",
    "                \"model\": model.state_dict(),\n",
    "                \"optimizer\": optimizer.state_dict(),\n",
    "            }\n",
    "            torch.save(checkpoint, f\"./models/model_{epoch+1}.pt\")\n",
    "            \n",
    "        model.eval()\n",
    "        evaluate_model(model, eval_data, losses)\n",
    "\n",
    "    return losses   "
   ]
  },
  {
   "cell_type": "code",
   "execution_count": 459,
   "metadata": {},
   "outputs": [],
   "source": [
    "t3 = TicTacToe()\n",
    "\n",
    "model = ResNet(\n",
    "    t3.board_size, \n",
    "    embd_size=params[\"embd_size\"], \n",
    "    hidden_size=params[\"hidden_size\"], \n",
    "    num_blocks=params[\"num_blocks\"],\n",
    "    params=params).to(device=params[\"device\"])\n",
    "\n",
    "optimizer = torch.optim.Adam(model.parameters(), lr=0.001)\n"
   ]
  },
  {
   "cell_type": "code",
   "execution_count": 460,
   "metadata": {},
   "outputs": [
    {
     "data": {
      "application/vnd.jupyter.widget-view+json": {
       "model_id": "0b69988b491c4c8daae63e4c608fd071",
       "version_major": 2,
       "version_minor": 0
      },
      "text/plain": [
       "  0%|          | 0/500 [00:00<?, ?it/s]"
      ]
     },
     "metadata": {},
     "output_type": "display_data"
    },
    {
     "data": {
      "application/vnd.jupyter.widget-view+json": {
       "model_id": "38c9f6af71914d1fabd07e8b3b9075e6",
       "version_major": 2,
       "version_minor": 0
      },
      "text/plain": [
       "  0%|          | 0/50 [00:00<?, ?it/s]"
      ]
     },
     "metadata": {},
     "output_type": "display_data"
    }
   ],
   "source": [
    "model.eval()\n",
    "mcts = MCTS(t3, model, params)\n",
    "load_data = params[\"load_data\"]\n",
    "\n",
    "if load_data:\n",
    "    data_checkpoint = torch.load(\"./data/data.pt\")\n",
    "    train_data = data_checkpoint[\"train_data\"]\n",
    "    eval_data = data_checkpoint[\"eval_data\"]\n",
    "else:\n",
    "    num_self_plays = params[\"num_self_plays\"]\n",
    "    train_data = generate_dataset(mcts, num_self_plays)\n",
    "    eval_data = generate_dataset(mcts, int(0.1 * num_self_plays))\n",
    "\n",
    "    data_checkpoint = {\n",
    "        \"train_data\": train_data,\n",
    "        \"eval_data\": eval_data,\n",
    "    }\n",
    "    torch.save(data_checkpoint, \"./data/data.pt\")"
   ]
  },
  {
   "cell_type": "code",
   "execution_count": 461,
   "metadata": {},
   "outputs": [],
   "source": [
    "losses = None"
   ]
  },
  {
   "cell_type": "code",
   "execution_count": 466,
   "metadata": {},
   "outputs": [
    {
     "data": {
      "application/vnd.jupyter.widget-view+json": {
       "model_id": "9d138f7ee6c94023ad2eb4e796053452",
       "version_major": 2,
       "version_minor": 0
      },
      "text/plain": [
       "  0%|          | 0/1000 [00:00<?, ?it/s]"
      ]
     },
     "metadata": {},
     "output_type": "display_data"
    }
   ],
   "source": [
    "load_model = params[\"load_model\"]\n",
    "num_models_to_save = 10\n",
    "\n",
    "if load_model:\n",
    "    check_point = torch.load(f\"./models/model_{params[\"num_epochs\"]}.pt\")\n",
    "    model.load_state_dict(check_point[\"model\"])\n",
    "    optimizer.load_state_dict(check_point[\"optimizer\"])\n",
    "else:\n",
    "    losses = train_model(model, optimizer, train_data, eval_data, params, \n",
    "                         losses=losses, \n",
    "                         num_models_to_save=num_models_to_save)"
   ]
  },
  {
   "cell_type": "code",
   "execution_count": 463,
   "metadata": {},
   "outputs": [
    {
     "data": {
      "image/png": "[encoded data removed]",
      "text/plain": [
       "<Figure size 640x480 with 1 Axes>"
      ]
     },
     "metadata": {},
     "output_type": "display_data"
    }
   ],
   "source": [
    "plt.plot(losses.policy.train)\n",
    "plt.plot(losses.policy.eval)\n",
    "plt.legend([\"training loss\", \"evaluation loss\"])\n",
    "plt.show()"
   ]
  },
  {
   "cell_type": "code",
   "execution_count": 464,
   "metadata": {},
   "outputs": [
    {
     "data": {
      "image/png": "[encoded data removed]",
      "text/plain": [
       "<Figure size 640x480 with 1 Axes>"
      ]
     },
     "metadata": {},
     "output_type": "display_data"
    }
   ],
   "source": [
    "plt.plot(losses.reward.train)\n",
    "plt.plot(losses.reward.eval)\n",
    "plt.legend([\"training loss\", \"evaluation loss\"])\n",
    "plt.show()"
   ]
  },
  {
   "cell_type": "markdown",
   "metadata": {},
   "source": [
    "## Trained Model\n",
    "\n",
    "Recall that we tested an untrained model on a winning state and got uniform distribution for the policy. Now, we have a trained model and can test it on the same state.\n",
    "\n",
    "As we can see in the following, we get predicted reward as 0.9 and action 8 with the highest probability, which is a winning move."
   ]
  },
  {
   "cell_type": "code",
   "execution_count": 468,
   "metadata": {},
   "outputs": [
    {
     "name": "stdout",
     "output_type": "stream",
     "text": [
      "state:\n",
      "\n",
      "\t.  .  o\n",
      "\t.  o  .\n",
      "\tx  .  x\n",
      "\n",
      "reward: 0.9060020446777344\n",
      "policy bar plot:\n"
     ]
    },
    {
     "data": {
      "image/png": "[encoded data removed]",
      "text/plain": [
       "<Figure size 640x480 with 1 Axes>"
      ]
     },
     "metadata": {},
     "output_type": "display_data"
    }
   ],
   "source": [
    "t3 = TicTacToe()\n",
    "\n",
    "model = ResNet(\n",
    "    t3.board_size, \n",
    "    embd_size=params[\"embd_size\"], \n",
    "    hidden_size=params[\"hidden_size\"], \n",
    "    num_blocks=params[\"num_blocks\"],\n",
    "    params=params).to(device=params[\"device\"])\n",
    "\n",
    "optimizer = torch.optim.Adam(model.parameters(), lr=0.001)\n",
    "\n",
    "check_point = torch.load(f\"./models/model_{params[\"num_epochs\"]}.pt\")\n",
    "model.load_state_dict(check_point[\"model\"])\n",
    "optimizer.load_state_dict(check_point[\"optimizer\"])\n",
    "\n",
    "model.eval()\n",
    "\n",
    "state = t3.init_state()\n",
    "state = t3.next_state(state, 6, 1)\n",
    "state = t3.next_state(state, 4, -1)\n",
    "state = t3.next_state(state, 8, 1)\n",
    "state = t3.next_state(state, 2, -1)\n",
    "\n",
    "enc_state = encode_state(state)\n",
    "enc_state = torch.tensor(enc_state, dtype=torch.float32).unsqueeze(0)\n",
    "\n",
    "policy, reward = model(enc_state)\n",
    "policy = F.softmax(policy, dim=1).squeeze(0).detach().cpu().numpy()\n",
    "\n",
    "print(\"state:\")\n",
    "print_state(state)\n",
    "print(f\"reward: {reward.item()}\")\n",
    "print(\"policy bar plot:\")\n",
    "plt.bar(range(len(policy)), policy)\n",
    "plt.show()"
   ]
  },
  {
   "cell_type": "markdown",
   "metadata": {},
   "source": [
    "## Human-Machine Play "
   ]
  },
  {
   "cell_type": "code",
   "execution_count": 471,
   "metadata": {},
   "outputs": [
    {
     "name": "stdout",
     "output_type": "stream",
     "text": [
      "player 'x' to play...\n",
      "\n",
      "\t.  .  .\n",
      "\t.  .  .\n",
      "\t.  .  .\n",
      "\n",
      "player 'o' to play...\n",
      "\n",
      "\t.  .  .\n",
      "\t.  x  .\n",
      "\t.  .  .\n",
      "\n",
      "available actions: [0 1 2 3 5 6 7 8]\n"
     ]
    },
    {
     "data": {
      "image/png": "[encoded data removed]",
      "text/plain": [
       "<Figure size 640x480 with 1 Axes>"
      ]
     },
     "metadata": {},
     "output_type": "display_data"
    },
    {
     "name": "stdout",
     "output_type": "stream",
     "text": [
      "player 'x' to play...\n",
      "\n",
      "\t.  .  .\n",
      "\t.  x  .\n",
      "\to  .  .\n",
      "\n",
      "player 'o' to play...\n",
      "\n",
      "\tx  .  .\n",
      "\t.  x  .\n",
      "\to  .  .\n",
      "\n",
      "available actions: [1 2 3 5 7 8]\n"
     ]
    },
    {
     "data": {
      "image/png": "[encoded data removed]",
      "text/plain": [
       "<Figure size 640x480 with 1 Axes>"
      ]
     },
     "metadata": {},
     "output_type": "display_data"
    },
    {
     "name": "stdout",
     "output_type": "stream",
     "text": [
      "player 'x' to play...\n",
      "\n",
      "\tx  .  .\n",
      "\t.  x  .\n",
      "\to  .  o\n",
      "\n",
      "player 'o' to play...\n",
      "\n",
      "\tx  .  .\n",
      "\t.  x  .\n",
      "\to  x  o\n",
      "\n",
      "available actions: [1 2 3 5]\n"
     ]
    },
    {
     "data": {
      "image/png": "[encoded data removed]",
      "text/plain": [
       "<Figure size 640x480 with 1 Axes>"
      ]
     },
     "metadata": {},
     "output_type": "display_data"
    },
    {
     "name": "stdout",
     "output_type": "stream",
     "text": [
      "player 'x' to play...\n",
      "\n",
      "\tx  o  .\n",
      "\t.  x  .\n",
      "\to  x  o\n",
      "\n",
      "player 'o' to play...\n",
      "\n",
      "\tx  o  .\n",
      "\t.  x  x\n",
      "\to  x  o\n",
      "\n",
      "available actions: [2 3]\n"
     ]
    },
    {
     "data": {
      "image/png": "[encoded data removed]",
      "text/plain": [
       "<Figure size 640x480 with 1 Axes>"
      ]
     },
     "metadata": {},
     "output_type": "display_data"
    },
    {
     "name": "stdout",
     "output_type": "stream",
     "text": [
      "player 'x' to play...\n",
      "\n",
      "\tx  o  .\n",
      "\to  x  x\n",
      "\to  x  o\n",
      "\n",
      "player 'o' to play...\n",
      "\n",
      "\tx  o  x\n",
      "\to  x  x\n",
      "\to  x  o\n",
      "\n",
      "available actions: []\n",
      "draw!\n"
     ]
    }
   ],
   "source": [
    "t3 = TicTacToe()\n",
    "state = t3.init_state()\n",
    "player = t3.first_player\n",
    "reward = 0\n",
    "\n",
    "model = ResNet(\n",
    "    t3.board_size, \n",
    "    embd_size=params[\"embd_size\"], \n",
    "    hidden_size=params[\"hidden_size\"], \n",
    "    num_blocks=params[\"num_blocks\"],\n",
    "    params=params).to(device=params[\"device\"])\n",
    "\n",
    "optimizer = torch.optim.Adam(model.parameters(), lr=0.001)\n",
    "\n",
    "check_point = torch.load(f\"./models/model_{params[\"num_epochs\"]}.pt\")\n",
    "model.load_state_dict(check_point[\"model\"])\n",
    "optimizer.load_state_dict(check_point[\"optimizer\"])\n",
    "\n",
    "model.eval()\n",
    "\n",
    "while True:\n",
    "    print(f\"player '{players[player]}' to play...\")\n",
    "    print_state(state)\n",
    "\n",
    "    if player == t3.first_player:\n",
    "        action = int(input(\"enter your action:\"))\n",
    "    else:\n",
    "        available_actions = t3.available_actions(state)\n",
    "        print(f\"available actions: {available_actions}\")\n",
    "        \n",
    "        if len(available_actions) == 0:\n",
    "            print(\"draw!\")\n",
    "            break        \n",
    "        \n",
    "        neutral_state = t3.neutral_perspective(state, player)\n",
    "        enc_state = encode_state(neutral_state)\n",
    "        enc_state = torch.tensor(enc_state, dtype=torch.float32).unsqueeze(0)\n",
    "        logit, reward = model(enc_state)\n",
    "        \n",
    "        policy = F.softmax(logit, dim=1).squeeze(0).detach().cpu().numpy()\n",
    "\n",
    "        plt.bar(range(len(policy)), policy)\n",
    "        plt.show()\n",
    "\n",
    "        action = np.argmax(policy)\n",
    "\n",
    "    state = t3.next_state(state, action, player)\n",
    "\n",
    "    if t3.won(state, action):\n",
    "        print_state(state)\n",
    "        print(f\"player {players[player]} won!\")\n",
    "        break\n",
    "    \n",
    "    player = t3.opponent(player)\n"
   ]
  },
  {
   "cell_type": "markdown",
   "metadata": {},
   "source": [
    "## Machine-Machine Play"
   ]
  },
  {
   "cell_type": "code",
   "execution_count": 472,
   "metadata": {},
   "outputs": [
    {
     "name": "stdout",
     "output_type": "stream",
     "text": [
      "player 'x' to play...\n",
      "\n",
      "\t.  .  .\n",
      "\t.  .  .\n",
      "\t.  .  .\n",
      "\n",
      "available actions: [0 1 2 3 4 5 6 7 8]\n"
     ]
    },
    {
     "data": {
      "image/png": "[encoded data removed]",
      "text/plain": [
       "<Figure size 640x480 with 1 Axes>"
      ]
     },
     "metadata": {},
     "output_type": "display_data"
    },
    {
     "name": "stdout",
     "output_type": "stream",
     "text": [
      "player 'o' to play...\n",
      "\n",
      "\tx  .  .\n",
      "\t.  .  .\n",
      "\t.  .  .\n",
      "\n",
      "available actions: [1 2 3 4 5 6 7 8]\n"
     ]
    },
    {
     "data": {
      "image/png": "[encoded data removed]",
      "text/plain": [
       "<Figure size 640x480 with 1 Axes>"
      ]
     },
     "metadata": {},
     "output_type": "display_data"
    },
    {
     "name": "stdout",
     "output_type": "stream",
     "text": [
      "player 'x' to play...\n",
      "\n",
      "\tx  .  .\n",
      "\t.  o  .\n",
      "\t.  .  .\n",
      "\n",
      "available actions: [1 2 3 5 6 7 8]\n"
     ]
    },
    {
     "data": {
      "image/png": "[encoded data removed]",
      "text/plain": [
       "<Figure size 640x480 with 1 Axes>"
      ]
     },
     "metadata": {},
     "output_type": "display_data"
    },
    {
     "name": "stdout",
     "output_type": "stream",
     "text": [
      "player 'o' to play...\n",
      "\n",
      "\tx  .  x\n",
      "\t.  o  .\n",
      "\t.  .  .\n",
      "\n",
      "available actions: [1 3 5 6 7 8]\n"
     ]
    },
    {
     "data": {
      "image/png": "[encoded data removed]",
      "text/plain": [
       "<Figure size 640x480 with 1 Axes>"
      ]
     },
     "metadata": {},
     "output_type": "display_data"
    },
    {
     "name": "stdout",
     "output_type": "stream",
     "text": [
      "player 'x' to play...\n",
      "\n",
      "\tx  o  x\n",
      "\t.  o  .\n",
      "\t.  .  .\n",
      "\n",
      "available actions: [3 5 6 7 8]\n"
     ]
    },
    {
     "data": {
      "image/png": "[encoded data removed]",
      "text/plain": [
       "<Figure size 640x480 with 1 Axes>"
      ]
     },
     "metadata": {},
     "output_type": "display_data"
    },
    {
     "name": "stdout",
     "output_type": "stream",
     "text": [
      "player 'o' to play...\n",
      "\n",
      "\tx  o  x\n",
      "\t.  o  .\n",
      "\t.  x  .\n",
      "\n",
      "available actions: [3 5 6 8]\n"
     ]
    },
    {
     "data": {
      "image/png": "[encoded data removed]",
      "text/plain": [
       "<Figure size 640x480 with 1 Axes>"
      ]
     },
     "metadata": {},
     "output_type": "display_data"
    },
    {
     "name": "stdout",
     "output_type": "stream",
     "text": [
      "player 'x' to play...\n",
      "\n",
      "\tx  o  x\n",
      "\to  o  .\n",
      "\t.  x  .\n",
      "\n",
      "available actions: [5 6 8]\n"
     ]
    },
    {
     "data": {
      "image/png": "[encoded data removed]",
      "text/plain": [
       "<Figure size 640x480 with 1 Axes>"
      ]
     },
     "metadata": {},
     "output_type": "display_data"
    },
    {
     "name": "stdout",
     "output_type": "stream",
     "text": [
      "player 'o' to play...\n",
      "\n",
      "\tx  o  x\n",
      "\to  o  x\n",
      "\t.  x  .\n",
      "\n",
      "available actions: [6 8]\n"
     ]
    },
    {
     "data": {
      "image/png": "[encoded data removed]",
      "text/plain": [
       "<Figure size 640x480 with 1 Axes>"
      ]
     },
     "metadata": {},
     "output_type": "display_data"
    },
    {
     "name": "stdout",
     "output_type": "stream",
     "text": [
      "player 'x' to play...\n",
      "\n",
      "\tx  o  x\n",
      "\to  o  x\n",
      "\t.  x  o\n",
      "\n",
      "available actions: [6]\n"
     ]
    },
    {
     "data": {
      "image/png": "[encoded data removed]",
      "text/plain": [
       "<Figure size 640x480 with 1 Axes>"
      ]
     },
     "metadata": {},
     "output_type": "display_data"
    },
    {
     "name": "stdout",
     "output_type": "stream",
     "text": [
      "player 'o' to play...\n",
      "\n",
      "\tx  o  x\n",
      "\to  o  x\n",
      "\tx  x  o\n",
      "\n",
      "available actions: []\n",
      "draw!\n"
     ]
    }
   ],
   "source": [
    "t3 = TicTacToe()\n",
    "state = t3.init_state()\n",
    "player = t3.first_player\n",
    "reward = 0\n",
    "\n",
    "model = ResNet(\n",
    "    t3.board_size, \n",
    "    embd_size=params[\"embd_size\"], \n",
    "    hidden_size=params[\"hidden_size\"], \n",
    "    num_blocks=params[\"num_blocks\"],\n",
    "    params=params).to(device=params[\"device\"])\n",
    "\n",
    "optimizer = torch.optim.Adam(model.parameters(), lr=0.001)\n",
    "\n",
    "check_point = torch.load(f\"./models/model_{params[\"num_epochs\"]}.pt\")\n",
    "model.load_state_dict(check_point[\"model\"])\n",
    "optimizer.load_state_dict(check_point[\"optimizer\"])\n",
    "\n",
    "model.eval()\n",
    "\n",
    "while True:\n",
    "    print(f\"player '{players[player]}' to play...\")\n",
    "    print_state(state)\n",
    "\n",
    "    available_actions = t3.available_actions(state)\n",
    "    print(f\"available actions: {available_actions}\")\n",
    "    \n",
    "    if len(available_actions) == 0:\n",
    "        print(\"draw!\")\n",
    "        break        \n",
    "    \n",
    "    neutral_state = t3.neutral_perspective(state, player)\n",
    "    enc_state = encode_state(neutral_state)\n",
    "    enc_state = torch.tensor(enc_state, dtype=torch.float32).unsqueeze(0)\n",
    "    logit, reward = model(enc_state)\n",
    "    \n",
    "    policy = F.softmax(logit, dim=1).squeeze(0).detach().cpu().numpy()\n",
    "\n",
    "    plt.bar(range(len(policy)), policy)\n",
    "    plt.show()\n",
    "\n",
    "    action = np.argmax(policy)\n",
    "\n",
    "    state = t3.next_state(state, action, player)\n",
    "\n",
    "    if t3.won(state, action):\n",
    "        print_state(state)\n",
    "        print(f\"player {players[player]} won!\")\n",
    "        break\n",
    "    \n",
    "    player = t3.opponent(player)\n"
   ]
  }
 ],
 "metadata": {
  "kernelspec": {
   "display_name": "venv",
   "language": "python",
   "name": "python3"
  },
  "language_info": {
   "codemirror_mode": {
    "name": "ipython",
    "version": 3
   },
   "file_extension": ".py",
   "mimetype": "text/x-python",
   "name": "python",
   "nbconvert_exporter": "python",
   "pygments_lexer": "ipython3",
   "version": "3.12.3"
  }
 },
 "nbformat": 4,
 "nbformat_minor": 2
}
