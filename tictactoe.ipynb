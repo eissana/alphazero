{
 "cells": [
  {
   "cell_type": "code",
   "execution_count": 93,
   "metadata": {},
   "outputs": [],
   "source": [
    "import torch\n",
    "import torch.nn as nn\n",
    "import torch.nn.functional as F\n",
    "\n",
    "import numpy as np\n",
    "import matplotlib.pyplot as plt"
   ]
  },
  {
   "cell_type": "markdown",
   "metadata": {},
   "source": [
    "# TicTacToe Game Setup\n",
    "In this setup, we play on both sides, i.e., we decide what to play as players take turn. The algorithm calculates when a player wins or there's no move to make (draw) and terminates the game."
   ]
  },
  {
   "cell_type": "code",
   "execution_count": 64,
   "metadata": {},
   "outputs": [],
   "source": [
    "class TicTacToe(object):\n",
    "    def __init__(self, board_size=3):\n",
    "        self.board_size = board_size\n",
    "\n",
    "    def init_state(self):\n",
    "        return np.zeros((self.board_size, self.board_size), dtype=np.int8)\n",
    "\n",
    "    def next_state(self, state, action, player):\n",
    "        assert player in {-1, 1}, \"player must be 1 or -1.\"\n",
    "        assert state.shape == (self.board_size, self.board_size), \"incorrect state shape!\"\n",
    "        row, col = self.coord(action)\n",
    "        state[row, col] = player\n",
    "        return state\n",
    "\n",
    "    def coord(self, action):\n",
    "        assert action >= 0 and action < self.board_size**2, \"invalid action number!\"\n",
    "        return action//self.board_size, action%self.board_size\n",
    "    \n",
    "    def won(self, state, action):\n",
    "        assert state.shape == (self.board_size, self.board_size), \"incorrect state shape!\"\n",
    "        row, col = self.coord(action)\n",
    "        player = state[row, col]\n",
    "        assert player != 0, \"player hasn't played yet!\"\n",
    "\n",
    "        row_full = np.sum(state[row, :]) == player * self.board_size\n",
    "        col_full = np.sum(state[:, col]) == player * self.board_size\n",
    "        diag_full = np.sum(np.diag(state)) == player * self.board_size\n",
    "        offdiag_full = np.sum(np.diag(np.fliplr(state))) == player * self.board_size\n",
    "    \n",
    "        return row_full or col_full or diag_full or offdiag_full\n",
    "        \n",
    "    def valid_moves(self, state):\n",
    "        return np.where(state.reshape(-1) == 0)[0]\n",
    "\n",
    "    def is_over(self, state, action):\n",
    "        return self.won(state, action) or (np.sum(state == 0) == 0)\n",
    "\n",
    "    def opponent(self, player):\n",
    "        assert player in {-1, 1}, \"player must be 1 or -1.\"\n",
    "        return -player\n",
    "    \n",
    "    def value(self, action):\n",
    "        row, col = self.coord(action)\n",
    "        return self.state[row, col]"
   ]
  },
  {
   "cell_type": "code",
   "execution_count": 67,
   "metadata": {},
   "outputs": [
    {
     "name": "stdout",
     "output_type": "stream",
     "text": [
      "[[0 0 0]\n",
      " [0 0 0]\n",
      " [0 0 0]]\n",
      "player '1' to play...\n",
      "valid moves: [0 1 2 3 4 5 6 7 8]\n",
      "[[0 0 0]\n",
      " [0 1 0]\n",
      " [0 0 0]]\n",
      "player '-1' to play...\n",
      "valid moves: [0 1 2 3 5 6 7 8]\n",
      "[[-1  0  0]\n",
      " [ 0  1  0]\n",
      " [ 0  0  0]]\n",
      "player '1' to play...\n",
      "valid moves: [1 2 3 5 6 7 8]\n",
      "[[-1  0  0]\n",
      " [ 0  1  0]\n",
      " [ 0  1  0]]\n",
      "player '-1' to play...\n",
      "valid moves: [1 2 3 5 6 8]\n",
      "[[-1 -1  0]\n",
      " [ 0  1  0]\n",
      " [ 0  1  0]]\n",
      "player '1' to play...\n",
      "valid moves: [2 3 5 6 8]\n",
      "[[-1 -1  1]\n",
      " [ 0  1  0]\n",
      " [ 0  1  0]]\n",
      "player '-1' to play...\n",
      "valid moves: [3 5 6 8]\n",
      "[[-1 -1  1]\n",
      " [ 0  1  0]\n",
      " [-1  1  0]]\n",
      "player '1' to play...\n",
      "valid moves: [3 5 8]\n",
      "[[-1 -1  1]\n",
      " [ 0  1  1]\n",
      " [-1  1  0]]\n",
      "player '-1' to play...\n",
      "valid moves: [3 8]\n",
      "[[-1 -1  1]\n",
      " [ 0  1  1]\n",
      " [-1  1 -1]]\n",
      "player '1' to play...\n",
      "valid moves: [3]\n",
      "[[-1 -1  1]\n",
      " [ 0  1  1]\n",
      " [-1  1  1]]\n",
      "player 1 won!\n"
     ]
    }
   ],
   "source": [
    "t3 = TicTacToe()\n",
    "state = t3.init_state()\n",
    "player = 1\n",
    "\n",
    "while True:\n",
    "    print(state)\n",
    "    print(f\"player '{player}' to play...\")\n",
    "\n",
    "    valid_moves = t3.valid_moves(state)\n",
    "    print(f\"valid moves: {valid_moves}\")\n",
    "    \n",
    "    if len(valid_moves) == 0:\n",
    "        print(\"draw!\")\n",
    "        break        \n",
    "\n",
    "    action = input(f\"provide a valid move: \")\n",
    "    action = int(action)\n",
    "    state = t3.next_state(state, action, player)\n",
    "\n",
    "    if t3.won(state, action):\n",
    "        print(state)\n",
    "        print(f\"player {player} won!\")\n",
    "        break\n",
    "    \n",
    "    player = t3.opponent(player)\n"
   ]
  },
  {
   "cell_type": "markdown",
   "metadata": {},
   "source": [
    "# Monte Carlo Tree Search\n",
    "In this setion, we play against the machine. The machine uses Monte Carlo Tree Search (MCTS) to decide on the next move."
   ]
  },
  {
   "cell_type": "code",
   "execution_count": 140,
   "metadata": {},
   "outputs": [],
   "source": [
    "params = {\n",
    "    \"C\": np.sqrt(2),\n",
    "    \"num_iters\": 1000,\n",
    "}"
   ]
  },
  {
   "cell_type": "code",
   "execution_count": 157,
   "metadata": {},
   "outputs": [],
   "source": [
    "\n",
    "class Node(object):\n",
    "    def __init__(self, game, state, action, params, parent=None):\n",
    "        self.game = game\n",
    "        self.state = state\n",
    "        self.action = action\n",
    "        self.params = params\n",
    "\n",
    "        self.parent = parent\n",
    "        self.children = []\n",
    "        self.available_actions = (state.reshape(-1) == 0).astype(np.int8)\n",
    "\n",
    "        # reward value for the current state which can be positive or negative.\n",
    "        self.value_sum = 0\n",
    "        self.visit_count = 0\n",
    "    \n",
    "    def win_prob(self):\n",
    "        return (self.value_sum/self.visit_count + 1)/2\n",
    "\n",
    "    def ucb(self, child):\n",
    "        '''\n",
    "        Computes the Upper Confidence Bound.\n",
    "        '''\n",
    "        parent_win_prob = 1 - child.win_prob()\n",
    "        return parent_win_prob + self.params[\"C\"]*np.sqrt(np.log(self.visit_count)/child.visit_count)\n",
    "\n",
    "    def select(self):\n",
    "        k = np.argmax([self.ucb(child) for child in self.children])\n",
    "        return self.children[k]\n",
    "    \n",
    "    def is_fully_expanded(self):\n",
    "        '''\n",
    "        Used in the node selection. Starting from the root, we select a child node\n",
    "        which is fully expanded. We continue this process until we reach a node that\n",
    "        is not fully expanded. Then, we expand the node.\n",
    "        '''\n",
    "        return (np.sum(self.available_actions) == 0) and len(self.children) > 0\n",
    "    \n",
    "    def expand(self):\n",
    "        child_action = np.random.choice(np.where(self.available_actions > 0)[0])\n",
    "        self.available_actions[child_action] = 0\n",
    "        child_state = self.game.next_state(self.state.copy(), child_action, 1)\n",
    "        child_state = self.game.change_perspective(child_state)\n",
    "\n",
    "        child_node = Node(self.game, child_state, child_action, self.params, parent=self)\n",
    "        self.children.append(child_node)\n",
    "        return child_node\n",
    "\n",
    "    def simulate(self):\n",
    "        game_is_over, value = self.game.is_over(self.state, self.action)\n",
    "        # value = self.game.opponent_value(value)\n",
    "        if game_is_over:\n",
    "            return value\n",
    "        \n",
    "        next_state = self.state.copy()\n",
    "        player = 1\n",
    "        \n",
    "        while True:\n",
    "            action = np.random.choice(np.where(next_state.reshape(-1) == 0)[0])\n",
    "            next_state = self.game.next_state(next_state, action, player)\n",
    "            \n",
    "            game_is_over, value = self.game.is_over(next_state, action)\n",
    "            if game_is_over:\n",
    "                if player == -1:\n",
    "                    value = self.game.opponent_value(value)\n",
    "                return value\n",
    "            player = self.game.opponent(player)\n",
    "            \n",
    "       \n",
    "    def backward(self, value):\n",
    "        self.value_sum += value\n",
    "        self.visit_count += 1\n",
    "        \n",
    "        value = self.game.opponent_value(value)\n",
    "        if self.parent is not None:\n",
    "            self.parent.backward(value)\n",
    "        \n",
    "\n",
    "class MCTS(object):\n",
    "    '''\n",
    "    Monte Carlo Tree Search implementation. It has no notion of players. It sees the state\n",
    "    from the perspective of player 1.\n",
    "    '''\n",
    "    def __init__(self, game, params):\n",
    "        self.game = game\n",
    "        self.params = params\n",
    "        \n",
    "    def search(self, state, num_iters):\n",
    "        action = None\n",
    "        root = Node(self.game, state, action, self.params)\n",
    "        for _ in range(num_iters):\n",
    "            node = root\n",
    "            while node.is_fully_expanded():\n",
    "                node = node.select()\n",
    "            \n",
    "            game_is_over, value = self.game.is_over(node.state, node.action)\n",
    "            value = self.game.opponent_value(value)\n",
    "\n",
    "            if not game_is_over:\n",
    "                node = node.expand()\n",
    "                value = node.simulate()\n",
    "                \n",
    "            node.backward(value)\n",
    "                \n",
    "        return self.action_dist(root)\n",
    "\n",
    "    def action_dist(self, root):\n",
    "        out = np.zeros(self.game.board_size**2)\n",
    "        for child in root.children:\n",
    "            out[child.action] = child.visit_count\n",
    "        out /= np.sum(out)\n",
    "        return out        \n"
   ]
  },
  {
   "cell_type": "code",
   "execution_count": 161,
   "metadata": {},
   "outputs": [],
   "source": [
    "class TicTacToe(object):\n",
    "    def __init__(self, board_size=3):\n",
    "        self.board_size = board_size\n",
    "        self.first_player = 1\n",
    "\n",
    "    def init_state(self):\n",
    "        return np.zeros((self.board_size, self.board_size), dtype=np.int8)\n",
    "\n",
    "    def next_state(self, state, action, player):\n",
    "        assert player in {-1, 1}, \"player must be 1 or -1.\"\n",
    "        assert state.shape == (self.board_size, self.board_size), \"incorrect state shape!\"\n",
    "        row, col = self.coord(action)\n",
    "        state[row, col] = player\n",
    "        return state\n",
    "\n",
    "    def coord(self, action):\n",
    "        assert action >= 0 and action < self.board_size**2, \"invalid action number!\"\n",
    "        return action//self.board_size, action%self.board_size\n",
    "    \n",
    "    def won(self, state, action):\n",
    "        if action is None:\n",
    "            return False\n",
    "        assert state.shape == (self.board_size, self.board_size), \"incorrect state shape!\"\n",
    "        row, col = self.coord(action)\n",
    "        player = state[row, col]\n",
    "        assert player != 0, \"player hasn't played yet!\"\n",
    "\n",
    "        row_full = np.sum(state[row, :]) == player * self.board_size\n",
    "        col_full = np.sum(state[:, col]) == player * self.board_size\n",
    "        diag_full = np.sum(np.diag(state)) == player * self.board_size\n",
    "        offdiag_full = np.sum(np.diag(np.fliplr(state))) == player * self.board_size\n",
    "    \n",
    "        return row_full or col_full or diag_full or offdiag_full\n",
    "        \n",
    "    def valid_moves(self, state):\n",
    "        return np.where(state.reshape(-1) == 0)[0]\n",
    "\n",
    "    def is_over(self, state, action):\n",
    "        '''\n",
    "        Return a pair (game_over, value) for the current state.\n",
    "        (True, 1) means game over and the player won.\n",
    "        (True, 0) means game over and is draw.\n",
    "        (False, 0) means game is not over.\n",
    "        '''\n",
    "        if self.won(state, action):\n",
    "            return True, 1\n",
    "        return (np.sum(state == 0) == 0), 0\n",
    "\n",
    "    def opponent(self, player):\n",
    "        assert player in {-1, 1}, \"player must be 1 or -1.\"\n",
    "        return -player\n",
    "    \n",
    "    def opponent_value(self, value):\n",
    "        return -value\n",
    "    \n",
    "    def change_perspective(self, state):\n",
    "        return -state \n",
    "    \n",
    "    def value(self, state, action):\n",
    "        if action is None:\n",
    "            return self.first_player\n",
    "        row, col = self.coord(action)\n",
    "        return state[row, col]"
   ]
  },
  {
   "cell_type": "code",
   "execution_count": 164,
   "metadata": {},
   "outputs": [
    {
     "name": "stdout",
     "output_type": "stream",
     "text": [
      "[[0 0 0]\n",
      " [0 0 0]\n",
      " [0 0 0]]\n",
      "player '1' to play...\n",
      "valid moves: [0 1 2 3 4 5 6 7 8]\n"
     ]
    },
    {
     "name": "stdout",
     "output_type": "stream",
     "text": [
      "[[0 0 0]\n",
      " [0 1 0]\n",
      " [0 0 0]]\n",
      "player '-1' to play...\n",
      "valid moves: [0 1 2 3 5 6 7 8]\n"
     ]
    },
    {
     "name": "stderr",
     "output_type": "stream",
     "text": [
      "100771.88s - Error calculating Smart Step Into Variants.\n",
      "Traceback (most recent call last):\n",
      "  File \"/Users/eissana/notes/algorithm/alphazero/venv/lib/python3.12/site-packages/debugpy/_vendored/pydevd/_pydevd_bundle/pydevd_comm.py\", line 1027, in internal_get_step_in_targets_json\n",
      "    variants = pydevd_bytecode_utils.calculate_smart_step_into_variants(frame, start_line, end_line)\n",
      "               ^^^^^^^^^^^^^^^^^^^^^^^^^^^^^^^^^^^^^^^^^^^^^^^^^^^^^^^^^^^^^^^^^^^^^^^^^^^^^^^^^^^^^\n",
      "  File \"/Users/eissana/notes/algorithm/alphazero/venv/lib/python3.12/site-packages/debugpy/_vendored/pydevd/_pydevd_bundle/pydevd_bytecode_utils.py\", line 816, in calculate_smart_step_into_variants\n",
      "    for target in _get_smart_step_into_targets(code):\n",
      "                  ^^^^^^^^^^^^^^^^^^^^^^^^^^^^^^^^^^\n",
      "  File \"/Users/eissana/notes/algorithm/alphazero/venv/lib/python3.12/site-packages/debugpy/_vendored/pydevd/_pydevd_bundle/pydevd_bytecode_utils.py\", line 678, in _get_smart_step_into_targets\n",
      "    b = bytecode.Bytecode.from_code(code)\n",
      "        ^^^^^^^^^^^^^^^^^^^^^^^^^^^^^^^^^\n",
      "  File \"/Users/eissana/notes/algorithm/alphazero/venv/lib/python3.12/site-packages/debugpy/_vendored/pydevd/_pydevd_frame_eval/vendored/bytecode/bytecode.py\", line 191, in from_code\n",
      "    concrete = _bytecode.ConcreteBytecode.from_code(code)\n",
      "               ^^^^^^^^^^^^^^^^^^^^^^^^^^^^^^^^^^^^^^^^^^\n",
      "  File \"/Users/eissana/notes/algorithm/alphazero/venv/lib/python3.12/site-packages/debugpy/_vendored/pydevd/_pydevd_frame_eval/vendored/bytecode/concrete.py\", line 185, in from_code\n",
      "    instr = ConcreteInstr.disassemble(lineno, code.co_code, offset)\n",
      "            ^^^^^^^^^^^^^^^^^^^^^^^^^^^^^^^^^^^^^^^^^^^^^^^^^^^^^^^\n",
      "  File \"/Users/eissana/notes/algorithm/alphazero/venv/lib/python3.12/site-packages/debugpy/_vendored/pydevd/_pydevd_frame_eval/vendored/bytecode/concrete.py\", line 119, in disassemble\n",
      "    return cls(name, arg, lineno=lineno, offset=index)\n",
      "           ^^^^^^^^^^^^^^^^^^^^^^^^^^^^^^^^^^^^^^^^^^^\n",
      "  File \"/Users/eissana/notes/algorithm/alphazero/venv/lib/python3.12/site-packages/debugpy/_vendored/pydevd/_pydevd_frame_eval/vendored/bytecode/concrete.py\", line 52, in __init__\n",
      "    self._set(name, arg, lineno)\n",
      "  File \"/Users/eissana/notes/algorithm/alphazero/venv/lib/python3.12/site-packages/debugpy/_vendored/pydevd/_pydevd_frame_eval/vendored/bytecode/concrete.py\", line 66, in _set\n",
      "    super()._set(name, arg, lineno)\n",
      "  File \"/Users/eissana/notes/algorithm/alphazero/venv/lib/python3.12/site-packages/debugpy/_vendored/pydevd/_pydevd_frame_eval/vendored/bytecode/instr.py\", line 239, in _set\n",
      "    _check_lineno(lineno)\n",
      "  File \"/Users/eissana/notes/algorithm/alphazero/venv/lib/python3.12/site-packages/debugpy/_vendored/pydevd/_pydevd_frame_eval/vendored/bytecode/instr.py\", line 74, in _check_lineno\n",
      "    raise ValueError(\"invalid lineno\")\n",
      "ValueError: invalid lineno\n"
     ]
    },
    {
     "data": {
      "image/png": "[encoded data removed]",
      "text/plain": [
       "<Figure size 640x480 with 1 Axes>"
      ]
     },
     "metadata": {},
     "output_type": "display_data"
    },
    {
     "name": "stdout",
     "output_type": "stream",
     "text": [
      "[[ 0  0 -1]\n",
      " [ 0  1  0]\n",
      " [ 0  0  0]]\n",
      "player '1' to play...\n",
      "valid moves: [0 1 3 5 6 7 8]\n",
      "[[ 1  0 -1]\n",
      " [ 0  1  0]\n",
      " [ 0  0  0]]\n",
      "player '-1' to play...\n",
      "valid moves: [1 3 5 6 7 8]\n"
     ]
    },
    {
     "data": {
      "image/png": "[encoded data removed]",
      "text/plain": [
       "<Figure size 640x480 with 1 Axes>"
      ]
     },
     "metadata": {},
     "output_type": "display_data"
    },
    {
     "name": "stdout",
     "output_type": "stream",
     "text": [
      "[[ 1  0 -1]\n",
      " [ 0  1  0]\n",
      " [ 0  0 -1]]\n",
      "player '1' to play...\n",
      "valid moves: [1 3 5 6 7]\n",
      "[[ 1  0 -1]\n",
      " [ 0  1  0]\n",
      " [ 0  0 -1]]\n",
      "player '-1' to play...\n",
      "valid moves: [1 3 5 6 7]\n"
     ]
    },
    {
     "data": {
      "image/png": "[encoded data removed]",
      "text/plain": [
       "<Figure size 640x480 with 1 Axes>"
      ]
     },
     "metadata": {},
     "output_type": "display_data"
    },
    {
     "name": "stdout",
     "output_type": "stream",
     "text": [
      "[[ 1  0 -1]\n",
      " [ 0  1 -1]\n",
      " [ 0  0 -1]]\n"
     ]
    },
    {
     "ename": "KeyboardInterrupt",
     "evalue": "",
     "output_type": "error",
     "traceback": [
      "\u001b[0;31m---------------------------------------------------------------------------\u001b[0m",
      "\u001b[0;31mKeyboardInterrupt\u001b[0m                         Traceback (most recent call last)",
      "Cell \u001b[0;32mIn[164], line 34\u001b[0m\n\u001b[1;32m     32\u001b[0m \u001b[38;5;28;01mif\u001b[39;00m t3\u001b[38;5;241m.\u001b[39mwon(state, action):\n\u001b[1;32m     33\u001b[0m     \u001b[38;5;28mprint\u001b[39m(state)\n\u001b[0;32m---> 34\u001b[0m     \u001b[38;5;28mprint\u001b[39m(\u001b[38;5;124mf\u001b[39m\u001b[38;5;124m\"\u001b[39m\u001b[38;5;124mplayer \u001b[39m\u001b[38;5;132;01m{\u001b[39;00mplayer\u001b[38;5;132;01m}\u001b[39;00m\u001b[38;5;124m won!\u001b[39m\u001b[38;5;124m\"\u001b[39m)\n\u001b[1;32m     35\u001b[0m     \u001b[38;5;28;01mbreak\u001b[39;00m\n\u001b[1;32m     37\u001b[0m player \u001b[38;5;241m=\u001b[39m t3\u001b[38;5;241m.\u001b[39mopponent(player)\n",
      "File \u001b[0;32m~/notes/algorithm/alphazero/venv/lib/python3.12/site-packages/debugpy/_vendored/pydevd/_pydevd_bundle/pydevd_frame.py:1197\u001b[0m, in \u001b[0;36mPyDBFrame.trace_dispatch\u001b[0;34m(self, frame, event, arg)\u001b[0m\n\u001b[1;32m   1195\u001b[0m \u001b[38;5;28;01mif\u001b[39;00m is_line:\n\u001b[1;32m   1196\u001b[0m     \u001b[38;5;28mself\u001b[39m\u001b[38;5;241m.\u001b[39mset_suspend(thread, step_cmd, original_step_cmd\u001b[38;5;241m=\u001b[39minfo\u001b[38;5;241m.\u001b[39mpydev_original_step_cmd)\n\u001b[0;32m-> 1197\u001b[0m     \u001b[38;5;28;43mself\u001b[39;49m\u001b[38;5;241;43m.\u001b[39;49m\u001b[43mdo_wait_suspend\u001b[49m\u001b[43m(\u001b[49m\u001b[43mthread\u001b[49m\u001b[43m,\u001b[49m\u001b[43m \u001b[49m\u001b[43mframe\u001b[49m\u001b[43m,\u001b[49m\u001b[43m \u001b[49m\u001b[43mevent\u001b[49m\u001b[43m,\u001b[49m\u001b[43m \u001b[49m\u001b[43marg\u001b[49m\u001b[43m)\u001b[49m\n\u001b[1;32m   1198\u001b[0m \u001b[38;5;28;01melif\u001b[39;00m is_return:  \u001b[38;5;66;03m# return event\u001b[39;00m\n\u001b[1;32m   1199\u001b[0m     back \u001b[38;5;241m=\u001b[39m frame\u001b[38;5;241m.\u001b[39mf_back\n",
      "File \u001b[0;32m~/notes/algorithm/alphazero/venv/lib/python3.12/site-packages/debugpy/_vendored/pydevd/_pydevd_bundle/pydevd_frame.py:165\u001b[0m, in \u001b[0;36mPyDBFrame.do_wait_suspend\u001b[0;34m(self, *args, **kwargs)\u001b[0m\n\u001b[1;32m    164\u001b[0m \u001b[38;5;28;01mdef\u001b[39;00m \u001b[38;5;21mdo_wait_suspend\u001b[39m(\u001b[38;5;28mself\u001b[39m, \u001b[38;5;241m*\u001b[39margs, \u001b[38;5;241m*\u001b[39m\u001b[38;5;241m*\u001b[39mkwargs):\n\u001b[0;32m--> 165\u001b[0m     \u001b[38;5;28;43mself\u001b[39;49m\u001b[38;5;241;43m.\u001b[39;49m\u001b[43m_args\u001b[49m\u001b[43m[\u001b[49m\u001b[38;5;241;43m0\u001b[39;49m\u001b[43m]\u001b[49m\u001b[38;5;241;43m.\u001b[39;49m\u001b[43mdo_wait_suspend\u001b[49m\u001b[43m(\u001b[49m\u001b[38;5;241;43m*\u001b[39;49m\u001b[43margs\u001b[49m\u001b[43m,\u001b[49m\u001b[43m \u001b[49m\u001b[38;5;241;43m*\u001b[39;49m\u001b[38;5;241;43m*\u001b[39;49m\u001b[43mkwargs\u001b[49m\u001b[43m)\u001b[49m\n",
      "File \u001b[0;32m~/notes/algorithm/alphazero/venv/lib/python3.12/site-packages/debugpy/_vendored/pydevd/pydevd.py:2070\u001b[0m, in \u001b[0;36mPyDB.do_wait_suspend\u001b[0;34m(self, thread, frame, event, arg, exception_type)\u001b[0m\n\u001b[1;32m   2067\u001b[0m             from_this_thread\u001b[38;5;241m.\u001b[39mappend(frame_custom_thread_id)\n\u001b[1;32m   2069\u001b[0m     \u001b[38;5;28;01mwith\u001b[39;00m \u001b[38;5;28mself\u001b[39m\u001b[38;5;241m.\u001b[39m_threads_suspended_single_notification\u001b[38;5;241m.\u001b[39mnotify_thread_suspended(thread_id, thread, stop_reason):\n\u001b[0;32m-> 2070\u001b[0m         keep_suspended \u001b[38;5;241m=\u001b[39m \u001b[38;5;28;43mself\u001b[39;49m\u001b[38;5;241;43m.\u001b[39;49m\u001b[43m_do_wait_suspend\u001b[49m\u001b[43m(\u001b[49m\u001b[43mthread\u001b[49m\u001b[43m,\u001b[49m\u001b[43m \u001b[49m\u001b[43mframe\u001b[49m\u001b[43m,\u001b[49m\u001b[43m \u001b[49m\u001b[43mevent\u001b[49m\u001b[43m,\u001b[49m\u001b[43m \u001b[49m\u001b[43marg\u001b[49m\u001b[43m,\u001b[49m\u001b[43m \u001b[49m\u001b[43msuspend_type\u001b[49m\u001b[43m,\u001b[49m\u001b[43m \u001b[49m\u001b[43mfrom_this_thread\u001b[49m\u001b[43m,\u001b[49m\u001b[43m \u001b[49m\u001b[43mframes_tracker\u001b[49m\u001b[43m)\u001b[49m\n\u001b[1;32m   2072\u001b[0m frames_list \u001b[38;5;241m=\u001b[39m \u001b[38;5;28;01mNone\u001b[39;00m\n\u001b[1;32m   2074\u001b[0m \u001b[38;5;28;01mif\u001b[39;00m keep_suspended:\n\u001b[1;32m   2075\u001b[0m     \u001b[38;5;66;03m# This means that we should pause again after a set next statement.\u001b[39;00m\n",
      "File \u001b[0;32m~/notes/algorithm/alphazero/venv/lib/python3.12/site-packages/debugpy/_vendored/pydevd/pydevd.py:2106\u001b[0m, in \u001b[0;36mPyDB._do_wait_suspend\u001b[0;34m(self, thread, frame, event, arg, suspend_type, from_this_thread, frames_tracker)\u001b[0m\n\u001b[1;32m   2103\u001b[0m         \u001b[38;5;28mself\u001b[39m\u001b[38;5;241m.\u001b[39m_call_input_hook()\n\u001b[1;32m   2105\u001b[0m     \u001b[38;5;28mself\u001b[39m\u001b[38;5;241m.\u001b[39mprocess_internal_commands()\n\u001b[0;32m-> 2106\u001b[0m     \u001b[43mtime\u001b[49m\u001b[38;5;241;43m.\u001b[39;49m\u001b[43msleep\u001b[49m\u001b[43m(\u001b[49m\u001b[38;5;241;43m0.01\u001b[39;49m\u001b[43m)\u001b[49m\n\u001b[1;32m   2108\u001b[0m \u001b[38;5;28mself\u001b[39m\u001b[38;5;241m.\u001b[39mcancel_async_evaluation(get_current_thread_id(thread), \u001b[38;5;28mstr\u001b[39m(\u001b[38;5;28mid\u001b[39m(frame)))\n\u001b[1;32m   2110\u001b[0m \u001b[38;5;66;03m# process any stepping instructions\u001b[39;00m\n",
      "\u001b[0;31mKeyboardInterrupt\u001b[0m: "
     ]
    }
   ],
   "source": [
    "t3 = TicTacToe()\n",
    "state = t3.init_state()\n",
    "player = 1  # or -1\n",
    "\n",
    "mcts = MCTS(t3, params)\n",
    "\n",
    "while True:\n",
    "    print(state)\n",
    "    print(f\"player '{player}' to play...\")\n",
    "\n",
    "    valid_moves = t3.valid_moves(state)\n",
    "    print(f\"valid moves: {valid_moves}\")\n",
    "    \n",
    "    if len(valid_moves) == 0:\n",
    "        print(\"draw!\")\n",
    "        break        \n",
    "\n",
    "    if player == 1:\n",
    "        action = input(f\"provide a valid move: \")\n",
    "        action = int(action)\n",
    "    else:\n",
    "        # mcts sees the state from the perspective of player 1.\n",
    "        # since it's player -1 now, we change the perspective.\n",
    "        opponent_state = t3.change_perspective(state)\n",
    "        action_dist = mcts.search(opponent_state, params[\"num_iters\"])\n",
    "        plt.bar(range(len(action_dist)), action_dist)\n",
    "        plt.show()\n",
    "        action = np.argmax(action_dist)\n",
    "\n",
    "    state = t3.next_state(state, action, player)\n",
    "\n",
    "    if t3.won(state, action):\n",
    "        print(state)\n",
    "        print(f\"player {player} won!\")\n",
    "        break\n",
    "    \n",
    "    player = t3.opponent(player)\n"
   ]
  },
  {
   "cell_type": "markdown",
   "metadata": {},
   "source": [
    "# Draft"
   ]
  },
  {
   "cell_type": "code",
   "execution_count": 56,
   "metadata": {},
   "outputs": [
    {
     "data": {
      "text/plain": [
       "array([], dtype=int64)"
      ]
     },
     "execution_count": 56,
     "metadata": {},
     "output_type": "execute_result"
    }
   ],
   "source": [
    "a = np.array([[1,1,1], [-1,1,1], [-1,1,-1]])\n",
    "a = a.reshape(-1)\n",
    "np.where(a == 0)[0]"
   ]
  },
  {
   "cell_type": "code",
   "execution_count": 110,
   "metadata": {},
   "outputs": [
    {
     "data": {
      "text/plain": [
       "6"
      ]
     },
     "execution_count": 110,
     "metadata": {},
     "output_type": "execute_result"
    }
   ],
   "source": [
    "np.random.randint(10)"
   ]
  }
 ],
 "metadata": {
  "kernelspec": {
   "display_name": "venv",
   "language": "python",
   "name": "python3"
  },
  "language_info": {
   "codemirror_mode": {
    "name": "ipython",
    "version": 3
   },
   "file_extension": ".py",
   "mimetype": "text/x-python",
   "name": "python",
   "nbconvert_exporter": "python",
   "pygments_lexer": "ipython3",
   "version": "3.12.3"
  }
 },
 "nbformat": 4,
 "nbformat_minor": 2
}
