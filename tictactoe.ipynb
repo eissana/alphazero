{
 "cells": [
  {
   "cell_type": "markdown",
   "metadata": {},
   "source": [
    "# TicTacToe Game\n",
    "\n",
    "We first set up a game which can be used for human versus human play. Then, we explain the Monte Carlo Tree Search (MCTS) algorithm and use it for human versus machine and machin vs machine plays."
   ]
  },
  {
   "cell_type": "code",
   "execution_count": 2,
   "metadata": {},
   "outputs": [],
   "source": [
    "import numpy as np\n",
    "import matplotlib.pyplot as plt"
   ]
  },
  {
   "cell_type": "code",
   "execution_count": 35,
   "metadata": {},
   "outputs": [],
   "source": [
    "players={1: \"x\", -1: \"o\", 0: \".\"}\n",
    "\n",
    "def print_state(state):\n",
    "    print(\"\\n\\t\", end=\"\")\n",
    "    print(\"\\n\\t\".join(\"  \".join([players[col] for col in row]) for row in state))\n",
    "    print()     "
   ]
  },
  {
   "cell_type": "markdown",
   "metadata": {},
   "source": [
    "## TicTacToe Game Setup\n",
    "In this setup, we play on both sides, i.e., we decide what to play as players take turn. The algorithm calculates when a player wins or there's no move to make (draw) and terminates the game."
   ]
  },
  {
   "cell_type": "code",
   "execution_count": 20,
   "metadata": {},
   "outputs": [],
   "source": [
    "class TicTacToe(object):\n",
    "    def __init__(self, board_size=3, first_player=1):\n",
    "        self.board_size = board_size\n",
    "        self.first_player = first_player\n",
    "\n",
    "    def init_state(self):\n",
    "        return np.zeros((self.board_size, self.board_size), dtype=np.int8)\n",
    "\n",
    "    def next_state(self, state, action, player):\n",
    "        row, col = self.coord(action)\n",
    "        state[row, col] = player\n",
    "        return state\n",
    "\n",
    "    def coord(self, action):\n",
    "        return action//self.board_size, action%self.board_size\n",
    "    \n",
    "    def opponent(self, player):\n",
    "        return -player\n",
    "\n",
    "    def won(self, state, action):\n",
    "        row, col = self.coord(action)\n",
    "        player = state[row, col]\n",
    "\n",
    "        row_full = np.sum(state[row, :]) == player * self.board_size\n",
    "        col_full = np.sum(state[:, col]) == player * self.board_size\n",
    "        diag_full = np.sum(np.diag(state)) == player * self.board_size\n",
    "        offdiag_full = np.sum(np.diag(np.fliplr(state))) == player * self.board_size\n",
    "    \n",
    "        return row_full or col_full or diag_full or offdiag_full\n",
    "        \n",
    "    def available_actions(self, state):\n",
    "        return np.where(state.reshape(-1) == 0)[0]\n",
    "\n",
    "    def is_over(self, state, action):\n",
    "        return self.won(state, action) or (np.sum(state == 0) == 0)\n",
    "\n",
    "    def result(self, won):\n",
    "        return 1 if won else 0\n"
   ]
  },
  {
   "cell_type": "markdown",
   "metadata": {},
   "source": [
    "### Human-Human Play"
   ]
  },
  {
   "cell_type": "code",
   "execution_count": 37,
   "metadata": {},
   "outputs": [
    {
     "name": "stdout",
     "output_type": "stream",
     "text": [
      "player 'x' to play...\n",
      "\n",
      "\t.  .  .\n",
      "\t.  .  .\n",
      "\t.  .  .\n",
      "\n",
      "available_actions: [0 1 2 3 4 5 6 7 8]\n",
      "player 'o' to play...\n",
      "\n",
      "\t.  .  .\n",
      "\t.  x  .\n",
      "\t.  .  .\n",
      "\n",
      "available_actions: [0 1 2 3 5 6 7 8]\n",
      "player 'x' to play...\n",
      "\n",
      "\to  .  .\n",
      "\t.  x  .\n",
      "\t.  .  .\n",
      "\n",
      "available_actions: [1 2 3 5 6 7 8]\n",
      "player 'o' to play...\n",
      "\n",
      "\to  .  .\n",
      "\t.  x  .\n",
      "\t.  x  .\n",
      "\n",
      "available_actions: [1 2 3 5 6 8]\n",
      "player 'x' to play...\n",
      "\n",
      "\to  o  .\n",
      "\t.  x  .\n",
      "\t.  x  .\n",
      "\n",
      "available_actions: [2 3 5 6 8]\n",
      "player 'o' to play...\n",
      "\n",
      "\to  o  x\n",
      "\t.  x  .\n",
      "\t.  x  .\n",
      "\n",
      "available_actions: [3 5 6 8]\n",
      "player 'x' to play...\n",
      "\n",
      "\to  o  x\n",
      "\t.  x  .\n",
      "\to  x  .\n",
      "\n",
      "available_actions: [3 5 8]\n",
      "player 'o' to play...\n",
      "\n",
      "\to  o  x\n",
      "\tx  x  .\n",
      "\to  x  .\n",
      "\n",
      "available_actions: [5 8]\n",
      "player 'x' to play...\n",
      "\n",
      "\to  o  x\n",
      "\tx  x  o\n",
      "\to  x  .\n",
      "\n",
      "available_actions: [8]\n",
      "player 'o' to play...\n",
      "\n",
      "\to  o  x\n",
      "\tx  x  o\n",
      "\to  x  x\n",
      "\n",
      "available_actions: []\n",
      "draw!\n"
     ]
    }
   ],
   "source": [
    "t3 = TicTacToe(first_player=1)\n",
    "state = t3.init_state()\n",
    "player = t3.first_player\n",
    "\n",
    "while True:\n",
    "    print(f\"player '{players[player]}' to play...\")\n",
    "    print_state(state)\n",
    "\n",
    "    available_actions = t3.available_actions(state)\n",
    "    print(f\"available_actions: {available_actions}\")\n",
    "    \n",
    "    if len(available_actions) == 0:\n",
    "        print(\"draw!\")\n",
    "        break        \n",
    "\n",
    "    action = input(f\"provide a valid move: \")\n",
    "    action = int(action)\n",
    "    state = t3.next_state(state, action, player)\n",
    "\n",
    "    if t3.won(state, action):\n",
    "        print(state)\n",
    "        print(f\"player {players[player]} won!\")\n",
    "        break\n",
    "    \n",
    "    player = t3.opponent(player)\n"
   ]
  },
  {
   "cell_type": "markdown",
   "metadata": {},
   "source": [
    "## Monte Carlo Tree Search\n",
    "\n",
    "In this setion, we design a machine that can play against human or against another machine. We use Monte Carlo Tree Search (MCTS) to decide on the next move.\n",
    "\n",
    "For a machine to be able to play against itself, we design it in a way that is agnostic of the player. We can assume that the player is always player 1, and change the perspective so that the machine act as player 2. For calrification, consider the following state in a $3\\times 3$ TicTacToe game:\n",
    "\n",
    "$$\n",
    "S = \n",
    "\\begin{pmatrix}\n",
    "1 & 0 & 0 \\\\\n",
    "0 & 1 & -1 \\\\\n",
    "0 & 0 & 0\n",
    "\\end{pmatrix}\n",
    "$$\n",
    "\n",
    "Player -1 is to play. We can see this is equvalent to player 1 in state $-S$, where all elements are multiplied by $-1$. Thus, we can design MCTS algorithm which is player agnostic.\n",
    "\n",
    "The MCTS algorithms is composed of four stages as follows:\n",
    "\n",
    "1. Selection\n",
    "2. Expansion\n",
    "3. Simulation\n",
    "4. Backpropagation\n",
    "\n",
    "The input to the MCTS algorithm is the current state and the output is a probability distribution of all the possible moves. Based on the distribution, we can decide which action to take. This can be just the move with the highest probability.\n",
    "\n",
    "<center>\n",
    "<img src=\"./images/mcts.png\" width=\"400\">\n",
    "</center>\n",
    "\n",
    "From the output of the MCTS algorithm, we choose the next action as $(0, 1)$, which prevents the opponent from winning, as detected by the algorithm.\n",
    "\n",
    "The tree serarch is created as follows. We first create a root node with a given state. Then, we follow the four steps as:\n",
    "\n",
    "1. Check if the current node is fully expanded or not. A node is fully expanded if it has children and no action can be taken.\n",
    "2. If the node is fully expanded, we compute the Upper Confidence Bound (UCB) for each of its children and select the one with the highest UCB.\n",
    "3. Continue the process until you reach a node which is not fully expanded.\n",
    "4. Expand the node and move to the expanded node.\n",
    "5. Run a simulation from the current node to determine if the player is won. Return the value.\n",
    "6. Run backpropagation to update the value_sum and visit_count on all the nodes in the path from the node to the root.\n",
    "\n",
    "This process is repeated for a set number of iteration. After that we look at the immediate children of the root node and compute the probability distribution of the visit_counts. We use this distribution to determine the next move.\n",
    "\n",
    "<center>\n",
    "<img src=\"./images/mcts-algorithm.png\" width=\"500\">\n",
    "</center>\n",
    "\n",
    "We use the following formula to compute the UCB of children nodes from a parent node to find out which child to select in the selection step.\n",
    "\n",
    "$$\n",
    "\\frac{v_c}{n_c}+c\\sqrt{\\frac{\\ln n_p}{n_c}},\n",
    "$$\n",
    "\n",
    "where \n",
    "\n",
    "* $n_p$ is the visit count of the parent node $P$,\n",
    "* $n_c$ is the visit count of the child node $C$,\n",
    "* $v_c$ is the total reward (number of wins minus number of losses),\n",
    "* $c$ is the exploration factor.\n",
    "\n",
    "<center>\n",
    "<img src=\"./images/mcts-nodes.png\" width=\"200\">\n",
    "</center>\n"
   ]
  },
  {
   "cell_type": "code",
   "execution_count": 41,
   "metadata": {},
   "outputs": [],
   "source": [
    "params = {\n",
    "    \"exploratin_factor\": np.sqrt(2),\n",
    "    \"num_iters\": 1000,\n",
    "}"
   ]
  },
  {
   "cell_type": "code",
   "execution_count": 38,
   "metadata": {},
   "outputs": [],
   "source": [
    "class TicTacToe(object):\n",
    "    def __init__(self, board_size=3, first_player=1):\n",
    "        self.board_size = board_size\n",
    "        self.first_player = first_player\n",
    "\n",
    "    def init_state(self):\n",
    "        return np.zeros((self.board_size, self.board_size), dtype=np.int8)\n",
    "\n",
    "    def next_state(self, state, action, player):\n",
    "        row, col = self.coord(action)\n",
    "        state[row, col] = player\n",
    "        return state\n",
    "\n",
    "    def coord(self, action):\n",
    "        return action//self.board_size, action%self.board_size\n",
    "    \n",
    "    def opponent(self, player):\n",
    "        return -player\n",
    "\n",
    "    def opponent_value(self, value):\n",
    "        return -value\n",
    "    \n",
    "    def change_perspective(self, state):\n",
    "        return -state \n",
    "    \n",
    "    def won(self, state, action):\n",
    "        if action is None:\n",
    "            return False\n",
    "        row, col = self.coord(action)\n",
    "        player = state[row, col]\n",
    "\n",
    "        row_full = np.sum(state[row, :]) == player * self.board_size\n",
    "        col_full = np.sum(state[:, col]) == player * self.board_size\n",
    "        diag_full = np.sum(np.diag(state)) == player * self.board_size\n",
    "        offdiag_full = np.sum(np.diag(np.fliplr(state))) == player * self.board_size\n",
    "    \n",
    "        return row_full or col_full or diag_full or offdiag_full\n",
    "        \n",
    "    def available_actions(self, state):\n",
    "        return np.where(state.reshape(-1) == 0)[0]\n",
    "\n",
    "    def is_over(self, state, action):\n",
    "        return self.won(state, action) or (np.sum(state == 0) == 0)\n",
    "\n",
    "    def result(self, won):\n",
    "        return 1 if won else 0\n",
    "\n",
    "\n",
    "class Node(object):\n",
    "    def __init__(self, game, state, params, parent=None, parent_action=None):\n",
    "        '''\n",
    "        `parent` took `parent_action` which resulted in the current `state`.\n",
    "        '''\n",
    "        self.game = game\n",
    "        self.state = state\n",
    "        self.params = params\n",
    "        self.parent = parent\n",
    "        self.parent_action = parent_action\n",
    "\n",
    "        self.children = []\n",
    "        self.available_actions = (state.reshape(-1) == 0).astype(np.int8)\n",
    "\n",
    "        # reward value for the current state which can be positive or negative.\n",
    "        self.value_sum = 0\n",
    "        # number of visits at this node.\n",
    "        self.visit_count = 0\n",
    "\n",
    "    def is_fully_expanded(self):\n",
    "        '''\n",
    "        Used in the node selection. Starting from the root, we select a child node\n",
    "        which is fully expanded. We continue this process until we reach a node that\n",
    "        is not fully expanded. Then, we expand the node.\n",
    "        '''\n",
    "        return (np.sum(self.available_actions) == 0) and len(self.children) > 0\n",
    "\n",
    "    def expected_reward(self):\n",
    "        return self.value_sum / self.visit_count\n",
    "\n",
    "    def ucb(self, child):\n",
    "        '''\n",
    "        Computes the Upper Confidence Bound (UCB).\n",
    "        '''\n",
    "        exploration = np.sqrt(np.log(self.visit_count)/child.visit_count)\n",
    "        return child.expected_reward() + self.params[\"exploratin_factor\"]*exploration\n",
    "\n",
    "    def select(self):\n",
    "        k = np.argmax([self.ucb(child) for child in self.children])\n",
    "        return self.children[k]\n",
    "\n",
    "    def expand(self):\n",
    "        action = np.random.choice(np.where(self.available_actions == 1)[0])\n",
    "        # mark as explored so it won't be available anymore.\n",
    "        self.available_actions[action] = 0\n",
    "        \n",
    "        # we can assume this player is the player 1, without loss of generality.\n",
    "        child_state = self.game.next_state(self.state.copy(), action, player=self.game.first_player)\n",
    "        child_state = self.game.change_perspective(child_state)\n",
    "        child_node = Node(self.game, child_state, self.params, self, action)\n",
    "\n",
    "        self.children.append(child_node)\n",
    "        return child_node\n",
    "\n",
    "    def simulate(self):\n",
    "        state = self.state.copy()\n",
    "        parent_action = self.parent_action\n",
    "        # We can assume the player at this node is the player 1, without loss\n",
    "        # of generality. If this player wins we return 1, if opponent wins we return\n",
    "        # -1, and if draw, we return 0.\n",
    "        player = self.game.first_player\n",
    "\n",
    "        while not self.game.is_over(state, parent_action):\n",
    "            parent_action = np.random.choice(np.where(state.reshape(-1) == 0)[0])\n",
    "            state = self.game.next_state(state, parent_action, player)\n",
    "            player = self.game.opponent(player)\n",
    "        \n",
    "        result = self.game.result(self.game.won(state, parent_action))\n",
    "        return result if player == self.game.first_player else self.game.opponent_value(result)                \n",
    "\n",
    "    def backward(self, reward):\n",
    "        '''\n",
    "        Backpropagate reward and visit counts from the node to the root.\n",
    "        '''\n",
    "        self.value_sum += reward\n",
    "        self.visit_count += 1\n",
    "        # parent node is the opponent of the child node.\n",
    "        reward = self.game.opponent_value(reward)\n",
    "        if self.parent is not None:\n",
    "            self.parent.backward(reward)\n",
    "\n",
    "\n",
    "class MCTS(object):\n",
    "    '''\n",
    "    Monte Carlo Tree Search implementation. It has no notion of players. It sees the state\n",
    "    from the perspective of alternating players in each iteration. This is useful when two\n",
    "    machines play as we can just change the perspective.\n",
    "    '''\n",
    "    def __init__(self, game, params):\n",
    "        self.game = game\n",
    "        self.params = params\n",
    "        \n",
    "    def best_action(self, state, parent_action):\n",
    "        num_iters = self.params[\"num_iters\"]\n",
    "        root = Node(self.game, state, self.params, parent_action=parent_action)\n",
    "        \n",
    "        for _ in range(num_iters):\n",
    "            # starting from the root, select a child with highest UCB if it's fully expanded, \n",
    "            # or expand it.\n",
    "            node = self.find_node(root)\n",
    "            reward = node.simulate()\n",
    "            node.backward(reward)\n",
    "            \n",
    "        return self.action_distibution(root)\n",
    "\n",
    "    def find_node(self, root):\n",
    "        '''\n",
    "        Starting from the root node, selects a node that is fully expanded and has highest UCB\n",
    "        until:\n",
    "            * The game is over. It return the last node. \n",
    "            * It finds a node that is not fully expanded. It expands the node and returns it.\n",
    "        '''\n",
    "        node = root\n",
    "        while not self.game.is_over(node.state, node.parent_action):\n",
    "            if not node.is_fully_expanded():\n",
    "                return node.expand()\n",
    "            node = node.select()\n",
    "        return node\n",
    "\n",
    "    def action_distibution(self, root):\n",
    "        '''\n",
    "        Returns the probability distribution of the visit counts.\n",
    "        '''\n",
    "        out = np.zeros(self.game.board_size**2)\n",
    "        for child in root.children:\n",
    "            out[child.parent_action] = child.visit_count\n",
    "        out /= np.sum(out)\n",
    "        return out        \n",
    "        "
   ]
  },
  {
   "cell_type": "markdown",
   "metadata": {},
   "source": [
    "### Human-Machine Play"
   ]
  },
  {
   "cell_type": "code",
   "execution_count": 47,
   "metadata": {},
   "outputs": [
    {
     "name": "stdout",
     "output_type": "stream",
     "text": [
      "player 'x' to play...\n",
      "\n",
      "\t.  .  .\n",
      "\t.  .  .\n",
      "\t.  .  .\n",
      "\n",
      "valid moves: [0 1 2 3 4 5 6 7 8]\n",
      "player 'o' to play...\n",
      "\n",
      "\t.  .  .\n",
      "\t.  x  .\n",
      "\t.  .  .\n",
      "\n",
      "valid moves: [0 1 2 3 5 6 7 8]\n"
     ]
    },
    {
     "data": {
      "image/png": "[encoded data removed]",
      "text/plain": [
       "<Figure size 640x480 with 1 Axes>"
      ]
     },
     "metadata": {},
     "output_type": "display_data"
    },
    {
     "name": "stdout",
     "output_type": "stream",
     "text": [
      "player 'x' to play...\n",
      "\n",
      "\t.  .  o\n",
      "\t.  x  .\n",
      "\t.  .  .\n",
      "\n",
      "valid moves: [0 1 3 5 6 7 8]\n",
      "player 'o' to play...\n",
      "\n",
      "\t.  x  o\n",
      "\t.  x  .\n",
      "\t.  .  .\n",
      "\n",
      "valid moves: [0 3 5 6 7 8]\n"
     ]
    },
    {
     "data": {
      "image/png": "[encoded data removed]",
      "text/plain": [
       "<Figure size 640x480 with 1 Axes>"
      ]
     },
     "metadata": {},
     "output_type": "display_data"
    },
    {
     "name": "stdout",
     "output_type": "stream",
     "text": [
      "player 'x' to play...\n",
      "\n",
      "\t.  x  o\n",
      "\t.  x  .\n",
      "\t.  o  .\n",
      "\n",
      "valid moves: [0 3 5 6 8]\n",
      "player 'o' to play...\n",
      "\n",
      "\t.  x  o\n",
      "\t.  x  .\n",
      "\t.  o  x\n",
      "\n",
      "valid moves: [0 3 5 6]\n"
     ]
    },
    {
     "data": {
      "image/png": "[encoded data removed]",
      "text/plain": [
       "<Figure size 640x480 with 1 Axes>"
      ]
     },
     "metadata": {},
     "output_type": "display_data"
    },
    {
     "name": "stdout",
     "output_type": "stream",
     "text": [
      "player 'x' to play...\n",
      "\n",
      "\to  x  o\n",
      "\t.  x  .\n",
      "\t.  o  x\n",
      "\n",
      "valid moves: [3 5 6]\n",
      "player 'o' to play...\n",
      "\n",
      "\to  x  o\n",
      "\t.  x  x\n",
      "\t.  o  x\n",
      "\n",
      "valid moves: [3 6]\n"
     ]
    },
    {
     "data": {
      "image/png": "[encoded data removed]",
      "text/plain": [
       "<Figure size 640x480 with 1 Axes>"
      ]
     },
     "metadata": {},
     "output_type": "display_data"
    },
    {
     "name": "stdout",
     "output_type": "stream",
     "text": [
      "player 'x' to play...\n",
      "\n",
      "\to  x  o\n",
      "\to  x  x\n",
      "\t.  o  x\n",
      "\n",
      "valid moves: [6]\n",
      "player 'o' to play...\n",
      "\n",
      "\to  x  o\n",
      "\to  x  x\n",
      "\tx  o  x\n",
      "\n",
      "valid moves: []\n",
      "draw!\n"
     ]
    }
   ],
   "source": [
    "t3 = TicTacToe(first_player=1)\n",
    "state = t3.init_state()\n",
    "player = t3.first_player\n",
    "\n",
    "mcts = MCTS(t3, params)\n",
    "\n",
    "while True:\n",
    "    print(f\"player '{players[player]}' to play...\")\n",
    "    print_state(state)\n",
    "\n",
    "    available_actions = t3.available_actions(state)\n",
    "    print(f\"valid moves: {available_actions}\")\n",
    "    \n",
    "    if len(available_actions) == 0:\n",
    "        print(\"draw!\")\n",
    "        break        \n",
    "\n",
    "    if player == t3.first_player:\n",
    "        action = input(f\"provide a valid move: \")\n",
    "        action = int(action)\n",
    "    else:\n",
    "        # mcts sees the state from the perspective of player 1.\n",
    "        # since it's player -1 now, we change the perspective.\n",
    "        opponent_state = t3.change_perspective(state)\n",
    "        action_dist = mcts.best_action(opponent_state, action)\n",
    "        plt.bar(range(len(action_dist)), action_dist)\n",
    "        plt.show()\n",
    "        action = np.argmax(action_dist)\n",
    "\n",
    "    state = t3.next_state(state, action, player)\n",
    "\n",
    "    if t3.won(state, action):\n",
    "        print(state)\n",
    "        print(f\"player {players[player]} won!\")\n",
    "        break\n",
    "    \n",
    "    player = t3.opponent(player)\n"
   ]
  },
  {
   "cell_type": "markdown",
   "metadata": {},
   "source": [
    "### Machine-Machine Play"
   ]
  },
  {
   "cell_type": "code",
   "execution_count": 48,
   "metadata": {},
   "outputs": [
    {
     "name": "stdout",
     "output_type": "stream",
     "text": [
      "player 'x' to play...\n",
      "\n",
      "\t.  .  .\n",
      "\t.  .  .\n",
      "\t.  .  .\n",
      "\n",
      "available actions: [0 1 2 3 4 5 6 7 8]\n"
     ]
    },
    {
     "data": {
      "image/png": "[encoded data removed]",
      "text/plain": [
       "<Figure size 640x480 with 1 Axes>"
      ]
     },
     "metadata": {},
     "output_type": "display_data"
    },
    {
     "name": "stdout",
     "output_type": "stream",
     "text": [
      "player 'o' to play...\n",
      "\n",
      "\t.  .  .\n",
      "\t.  x  .\n",
      "\t.  .  .\n",
      "\n",
      "available actions: [0 1 2 3 5 6 7 8]\n"
     ]
    },
    {
     "data": {
      "image/png": "[encoded data removed]",
      "text/plain": [
       "<Figure size 640x480 with 1 Axes>"
      ]
     },
     "metadata": {},
     "output_type": "display_data"
    },
    {
     "name": "stdout",
     "output_type": "stream",
     "text": [
      "player 'x' to play...\n",
      "\n",
      "\t.  .  .\n",
      "\t.  x  .\n",
      "\t.  .  o\n",
      "\n",
      "available actions: [0 1 2 3 5 6 7]\n"
     ]
    },
    {
     "data": {
      "image/png": "[encoded data removed]",
      "text/plain": [
       "<Figure size 640x480 with 1 Axes>"
      ]
     },
     "metadata": {},
     "output_type": "display_data"
    },
    {
     "name": "stdout",
     "output_type": "stream",
     "text": [
      "player 'o' to play...\n",
      "\n",
      "\t.  x  .\n",
      "\t.  x  .\n",
      "\t.  .  o\n",
      "\n",
      "available actions: [0 2 3 5 6 7]\n"
     ]
    },
    {
     "data": {
      "image/png": "[encoded data removed]",
      "text/plain": [
       "<Figure size 640x480 with 1 Axes>"
      ]
     },
     "metadata": {},
     "output_type": "display_data"
    },
    {
     "name": "stdout",
     "output_type": "stream",
     "text": [
      "player 'x' to play...\n",
      "\n",
      "\t.  x  .\n",
      "\t.  x  .\n",
      "\t.  o  o\n",
      "\n",
      "available actions: [0 2 3 5 6]\n"
     ]
    },
    {
     "data": {
      "image/png": "[encoded data removed]",
      "text/plain": [
       "<Figure size 640x480 with 1 Axes>"
      ]
     },
     "metadata": {},
     "output_type": "display_data"
    },
    {
     "name": "stdout",
     "output_type": "stream",
     "text": [
      "player 'o' to play...\n",
      "\n",
      "\t.  x  .\n",
      "\t.  x  .\n",
      "\tx  o  o\n",
      "\n",
      "available actions: [0 2 3 5]\n"
     ]
    },
    {
     "data": {
      "image/png": "[encoded data removed]",
      "text/plain": [
       "<Figure size 640x480 with 1 Axes>"
      ]
     },
     "metadata": {},
     "output_type": "display_data"
    },
    {
     "name": "stdout",
     "output_type": "stream",
     "text": [
      "player 'x' to play...\n",
      "\n",
      "\t.  x  o\n",
      "\t.  x  .\n",
      "\tx  o  o\n",
      "\n",
      "available actions: [0 3 5]\n"
     ]
    },
    {
     "data": {
      "image/png": "[encoded data removed]",
      "text/plain": [
       "<Figure size 640x480 with 1 Axes>"
      ]
     },
     "metadata": {},
     "output_type": "display_data"
    },
    {
     "name": "stdout",
     "output_type": "stream",
     "text": [
      "player 'o' to play...\n",
      "\n",
      "\t.  x  o\n",
      "\t.  x  x\n",
      "\tx  o  o\n",
      "\n",
      "available actions: [0 3]\n"
     ]
    },
    {
     "data": {
      "image/png": "[encoded data removed]",
      "text/plain": [
       "<Figure size 640x480 with 1 Axes>"
      ]
     },
     "metadata": {},
     "output_type": "display_data"
    },
    {
     "name": "stdout",
     "output_type": "stream",
     "text": [
      "player 'x' to play...\n",
      "\n",
      "\t.  x  o\n",
      "\to  x  x\n",
      "\tx  o  o\n",
      "\n",
      "available actions: [0]\n"
     ]
    },
    {
     "data": {
      "image/png": "[encoded data removed]",
      "text/plain": [
       "<Figure size 640x480 with 1 Axes>"
      ]
     },
     "metadata": {},
     "output_type": "display_data"
    },
    {
     "name": "stdout",
     "output_type": "stream",
     "text": [
      "player 'o' to play...\n",
      "\n",
      "\tx  x  o\n",
      "\to  x  x\n",
      "\tx  o  o\n",
      "\n",
      "available actions: []\n",
      "draw!\n"
     ]
    }
   ],
   "source": [
    "t3 = TicTacToe(first_player=1)\n",
    "state = t3.init_state()\n",
    "player = t3.first_player\n",
    "action = None\n",
    "\n",
    "mcts = MCTS(t3, params)\n",
    "\n",
    "while True:\n",
    "    print(f\"player '{players[player]}' to play...\")\n",
    "    print_state(state)\n",
    "\n",
    "    available_actions = t3.available_actions(state)\n",
    "    print(f\"available actions: {available_actions}\")\n",
    "    \n",
    "    if len(available_actions) == 0:\n",
    "        print(\"draw!\")\n",
    "        break        \n",
    "    \n",
    "    opponent_state = t3.change_perspective(state)\n",
    "    action_dist = mcts.best_action(opponent_state, action)\n",
    "    plt.bar(range(len(action_dist)), action_dist)\n",
    "    plt.show()\n",
    "    action = np.argmax(action_dist)\n",
    "\n",
    "    state = t3.next_state(state, action, player)\n",
    "\n",
    "    if t3.won(state, action):\n",
    "        print(state)\n",
    "        print(f\"player {players[player]} won!\")\n",
    "        break\n",
    "    \n",
    "    player = t3.opponent(player)\n"
   ]
  }
 ],
 "metadata": {
  "kernelspec": {
   "display_name": "venv",
   "language": "python",
   "name": "python3"
  },
  "language_info": {
   "codemirror_mode": {
    "name": "ipython",
    "version": 3
   },
   "file_extension": ".py",
   "mimetype": "text/x-python",
   "name": "python",
   "nbconvert_exporter": "python",
   "pygments_lexer": "ipython3",
   "version": "3.12.3"
  }
 },
 "nbformat": 4,
 "nbformat_minor": 2
}
