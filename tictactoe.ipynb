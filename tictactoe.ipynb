{
 "cells": [
  {
   "cell_type": "code",
   "execution_count": 93,
   "metadata": {},
   "outputs": [],
   "source": [
    "import numpy as np\n",
    "import matplotlib.pyplot as plt"
   ]
  },
  {
   "cell_type": "markdown",
   "metadata": {},
   "source": [
    "# TicTacToe Game Setup\n",
    "In this setup, we play on both sides, i.e., we decide what to play as players take turn. The algorithm calculates when a player wins or there's no move to make (draw) and terminates the game."
   ]
  },
  {
   "cell_type": "code",
   "execution_count": 64,
   "metadata": {},
   "outputs": [],
   "source": [
    "class TicTacToe(object):\n",
    "    def __init__(self, board_size=3):\n",
    "        self.board_size = board_size\n",
    "\n",
    "    def init_state(self):\n",
    "        return np.zeros((self.board_size, self.board_size), dtype=np.int8)\n",
    "\n",
    "    def next_state(self, state, action, player):\n",
    "        assert player in {-1, 1}, \"player must be 1 or -1.\"\n",
    "        assert state.shape == (self.board_size, self.board_size), \"incorrect state shape!\"\n",
    "        row, col = self.coord(action)\n",
    "        state[row, col] = player\n",
    "        return state\n",
    "\n",
    "    def coord(self, action):\n",
    "        assert action >= 0 and action < self.board_size**2, \"invalid action number!\"\n",
    "        return action//self.board_size, action%self.board_size\n",
    "    \n",
    "    def won(self, state, action):\n",
    "        assert state.shape == (self.board_size, self.board_size), \"incorrect state shape!\"\n",
    "        row, col = self.coord(action)\n",
    "        player = state[row, col]\n",
    "        assert player != 0, \"player hasn't played yet!\"\n",
    "\n",
    "        row_full = np.sum(state[row, :]) == player * self.board_size\n",
    "        col_full = np.sum(state[:, col]) == player * self.board_size\n",
    "        diag_full = np.sum(np.diag(state)) == player * self.board_size\n",
    "        offdiag_full = np.sum(np.diag(np.fliplr(state))) == player * self.board_size\n",
    "    \n",
    "        return row_full or col_full or diag_full or offdiag_full\n",
    "        \n",
    "    def valid_moves(self, state):\n",
    "        return np.where(state.reshape(-1) == 0)[0]\n",
    "\n",
    "    def is_over(self, state, action):\n",
    "        return self.won(state, action) or (np.sum(state == 0) == 0)\n",
    "\n",
    "    def opponent(self, player):\n",
    "        assert player in {-1, 1}, \"player must be 1 or -1.\"\n",
    "        return -player\n",
    "    \n",
    "    def value(self, action):\n",
    "        row, col = self.coord(action)\n",
    "        return self.state[row, col]"
   ]
  },
  {
   "cell_type": "code",
   "execution_count": 67,
   "metadata": {},
   "outputs": [
    {
     "name": "stdout",
     "output_type": "stream",
     "text": [
      "[[0 0 0]\n",
      " [0 0 0]\n",
      " [0 0 0]]\n",
      "player '1' to play...\n",
      "valid moves: [0 1 2 3 4 5 6 7 8]\n",
      "[[0 0 0]\n",
      " [0 1 0]\n",
      " [0 0 0]]\n",
      "player '-1' to play...\n",
      "valid moves: [0 1 2 3 5 6 7 8]\n",
      "[[-1  0  0]\n",
      " [ 0  1  0]\n",
      " [ 0  0  0]]\n",
      "player '1' to play...\n",
      "valid moves: [1 2 3 5 6 7 8]\n",
      "[[-1  0  0]\n",
      " [ 0  1  0]\n",
      " [ 0  1  0]]\n",
      "player '-1' to play...\n",
      "valid moves: [1 2 3 5 6 8]\n",
      "[[-1 -1  0]\n",
      " [ 0  1  0]\n",
      " [ 0  1  0]]\n",
      "player '1' to play...\n",
      "valid moves: [2 3 5 6 8]\n",
      "[[-1 -1  1]\n",
      " [ 0  1  0]\n",
      " [ 0  1  0]]\n",
      "player '-1' to play...\n",
      "valid moves: [3 5 6 8]\n",
      "[[-1 -1  1]\n",
      " [ 0  1  0]\n",
      " [-1  1  0]]\n",
      "player '1' to play...\n",
      "valid moves: [3 5 8]\n",
      "[[-1 -1  1]\n",
      " [ 0  1  1]\n",
      " [-1  1  0]]\n",
      "player '-1' to play...\n",
      "valid moves: [3 8]\n",
      "[[-1 -1  1]\n",
      " [ 0  1  1]\n",
      " [-1  1 -1]]\n",
      "player '1' to play...\n",
      "valid moves: [3]\n",
      "[[-1 -1  1]\n",
      " [ 0  1  1]\n",
      " [-1  1  1]]\n",
      "player 1 won!\n"
     ]
    }
   ],
   "source": [
    "t3 = TicTacToe()\n",
    "state = t3.init_state()\n",
    "player = 1\n",
    "\n",
    "while True:\n",
    "    print(state)\n",
    "    print(f\"player '{player}' to play...\")\n",
    "\n",
    "    valid_moves = t3.valid_moves(state)\n",
    "    print(f\"valid moves: {valid_moves}\")\n",
    "    \n",
    "    if len(valid_moves) == 0:\n",
    "        print(\"draw!\")\n",
    "        break        \n",
    "\n",
    "    action = input(f\"provide a valid move: \")\n",
    "    action = int(action)\n",
    "    state = t3.next_state(state, action, player)\n",
    "\n",
    "    if t3.won(state, action):\n",
    "        print(state)\n",
    "        print(f\"player {player} won!\")\n",
    "        break\n",
    "    \n",
    "    player = t3.opponent(player)\n"
   ]
  },
  {
   "cell_type": "markdown",
   "metadata": {},
   "source": [
    "# Monte Carlo Tree Search\n",
    "In this setion, we design a machine that can play against human or against another machine. We use Monte Carlo Tree Search (MCTS) to decide on the next move.\n",
    "\n",
    "For a machine to be able to play against itself, we design it in a way that is agnostic of the player. We can assume that the player is always player 1, and change the perspective so that the machine act as player 2. For calrification, consider the following state in a $3\\times 3$ TicTacToe game:\n",
    "\n",
    "$$\n",
    "S = \n",
    "\\begin{pmatrix}\n",
    "1 & 0 & 0 \\\\\n",
    "0 & 1 & -1 \\\\\n",
    "0 & 0 & 0\n",
    "\\end{pmatrix}\n",
    "$$\n",
    "\n",
    "Player -1 is to play. We can see this is equvalent to player 1 in state $-S$, where all elements are multiplied by $-1$. Thus, we can design MCTS algorithm which is player agnostic.\n",
    "\n",
    "The MCTS algorithms is composed of four stages as follows:\n",
    "\n",
    "1. Selection\n",
    "2. Expansion\n",
    "3. Simulation\n",
    "4. Backpropagation\n",
    "\n",
    "The input to the MCTS algorithm is the current state and the output is a probability distribution of all the possible moves. Based on the distribution, we can decide which action to take. This can be just the move with the highest probability.\n",
    "\n",
    "<center>\n",
    "<img src=\"./images/mcts.png\" width=\"400\">\n",
    "</center>\n",
    "\n",
    "From the output of the MCTS algorithm, we choose the next action as $(0, 1)$, which prevents the opponent from winning, as detected by the algorithm.\n",
    "\n",
    "The tree serarch is created as follows. We first create a root node with a given state. Then, we follow the four steps as:\n",
    "\n",
    "1. Check if the current node is fully expanded or not. A node is fully expanded if it has children and no action can be taken.\n",
    "2. If the node is fully expanded, we compute the Upper Confidence Bound (UCB) for each of its children and select the one with the highest UCB.\n",
    "3. Continue the process until you reach a node which is not fully expanded.\n",
    "4. Expand the node and move to the expanded node.\n",
    "5. Run a simulation from the current node to determine if the player is won. Return the value.\n",
    "6. Run backpropagation to update the value_sum and visit_count on all the nodes in the path from the node to the root.\n",
    "\n",
    "This process is repeated for a set number of iteration. After that we look at the immediate children of the root node and compute the probability distribution of the visit_counts. We use this distribution to determine the next move.\n",
    "\n",
    "<center>\n",
    "<img src=\"./images/mcts-algorithm.png\" width=\"500\">\n",
    "</center>\n",
    "\n",
    "We use the following formula to compute the UCB of children nodes from a parent node to find out which child to select in the selection step.\n",
    "\n",
    "$$\n",
    "Q(a)+c\\sqrt{\\frac{\\ln n_p}{n_c}},\n",
    "$$\n",
    "\n",
    "where $n_p$ and $n_c$ are the visit counts of the parent node $P$ and the child node $C$, as shown in the following diagram, and $c$ is the exploration ratio. We took action $a$ from $P$ to reach node $C$ and $Q(a)=E[R|a]$ is the expectation of the parent's reward if action $a$ is taken. This can be viewed as the winning probability at the parent node or the probability of losing at the child node, which can be computed as $1-\\frac{v_c}{n_c}$.\n",
    "\n",
    "<center>\n",
    "<img src=\"./images/mcts-nodes.png\" width=\"200\">\n",
    "</center>\n"
   ]
  },
  {
   "cell_type": "code",
   "execution_count": 184,
   "metadata": {},
   "outputs": [],
   "source": [
    "params = {\n",
    "    \"exploratin_factor\": np.sqrt(2),\n",
    "    \"num_iters\": 1000,\n",
    "}"
   ]
  },
  {
   "cell_type": "code",
   "execution_count": 176,
   "metadata": {},
   "outputs": [],
   "source": [
    "\n",
    "class Node(object):\n",
    "    def __init__(self, game, state, action, params, parent=None):\n",
    "        self.game = game\n",
    "        self.state = state\n",
    "        self.action = action\n",
    "        self.params = params\n",
    "\n",
    "        self.parent = parent\n",
    "        self.children = []\n",
    "        self.available_actions = (state.reshape(-1) == 0).astype(np.int8)\n",
    "\n",
    "        # reward value for the current state which can be positive or negative.\n",
    "        self.value_sum = 0\n",
    "        self.visit_count = 0\n",
    "    \n",
    "    def win_prob(self):\n",
    "        return (self.value_sum/self.visit_count + 1)/2\n",
    "\n",
    "    def ucb(self, child):\n",
    "        '''\n",
    "        Computes the Upper Confidence Bound.\n",
    "        '''\n",
    "        parent_win_prob = 1 - child.win_prob()\n",
    "        return parent_win_prob + self.params[\"exploratin_factor\"]*np.sqrt(np.log(self.visit_count)/child.visit_count)\n",
    "\n",
    "    def select(self):\n",
    "        k = np.argmax([self.ucb(child) for child in self.children])\n",
    "        return self.children[k]\n",
    "    \n",
    "    def is_fully_expanded(self):\n",
    "        '''\n",
    "        Used in the node selection. Starting from the root, we select a child node\n",
    "        which is fully expanded. We continue this process until we reach a node that\n",
    "        is not fully expanded. Then, we expand the node.\n",
    "        '''\n",
    "        return (np.sum(self.available_actions) == 0) and len(self.children) > 0\n",
    "    \n",
    "    def expand(self):\n",
    "        child_action = np.random.choice(np.where(self.available_actions > 0)[0])\n",
    "        self.available_actions[child_action] = 0\n",
    "        child_state = self.game.next_state(self.state.copy(), child_action, 1)\n",
    "        child_state = self.game.change_perspective(child_state)\n",
    "\n",
    "        child_node = Node(self.game, child_state, child_action, self.params, parent=self)\n",
    "        self.children.append(child_node)\n",
    "        return child_node\n",
    "\n",
    "    def simulate(self):\n",
    "        next_state = self.state.copy()\n",
    "        player = 1\n",
    "        \n",
    "        while True:\n",
    "            action = np.random.choice(np.where(next_state.reshape(-1) == 0)[0])\n",
    "            next_state = self.game.next_state(next_state, action, player)           \n",
    "            game_is_over, value = self.game.is_over(next_state, action)\n",
    "\n",
    "            if game_is_over:\n",
    "                if player == 1:\n",
    "                    value = self.game.opponent_value(value)\n",
    "                return value\n",
    "\n",
    "            player = self.game.opponent(player)\n",
    "            \n",
    "       \n",
    "    def backward(self, value):\n",
    "        value = self.game.opponent_value(value)\n",
    "        self.value_sum += value\n",
    "        self.visit_count += 1\n",
    "        \n",
    "        if self.parent is not None:\n",
    "            self.parent.backward(value)\n",
    "        \n",
    "\n",
    "class MCTS(object):\n",
    "    '''\n",
    "    Monte Carlo Tree Search implementation. It has no notion of players. It sees the state\n",
    "    from the perspective of alternating players in each iteration. This is useful when two\n",
    "    machines play as we can just change the perspective.\n",
    "    '''\n",
    "    def __init__(self, game, params):\n",
    "        self.game = game\n",
    "        self.params = params\n",
    "        \n",
    "    def search(self, state, num_iters):\n",
    "        action = None\n",
    "        root = Node(self.game, state, action, self.params)\n",
    "        for _ in range(num_iters):\n",
    "            node = root\n",
    "\n",
    "            while node.is_fully_expanded():\n",
    "                node = node.select()\n",
    "            \n",
    "            game_is_over, value = self.game.is_over(node.state, node.action)\n",
    "\n",
    "            if not game_is_over:\n",
    "                node = node.expand()\n",
    "                game_is_over, value = self.game.is_over(node.state, node.action)\n",
    "\n",
    "                if not game_is_over:\n",
    "                    value = node.simulate()\n",
    "                \n",
    "            node.backward(value)\n",
    "                \n",
    "        return self.action_dist(root)\n",
    "\n",
    "    def action_dist(self, root):\n",
    "        '''\n",
    "        Returns the probability distribution of the visit counts.\n",
    "        '''\n",
    "        out = np.zeros(self.game.board_size**2)\n",
    "        for child in root.children:\n",
    "            out[child.action] = child.visit_count\n",
    "        out /= np.sum(out)\n",
    "        return out        \n"
   ]
  },
  {
   "cell_type": "code",
   "execution_count": 177,
   "metadata": {},
   "outputs": [],
   "source": [
    "class TicTacToe(object):\n",
    "    def __init__(self, board_size=3):\n",
    "        self.board_size = board_size\n",
    "        self.first_player = 1\n",
    "\n",
    "    def init_state(self):\n",
    "        return np.zeros((self.board_size, self.board_size), dtype=np.int8)\n",
    "\n",
    "    def next_state(self, state, action, player):\n",
    "        assert player in {-1, 1}, \"player must be 1 or -1.\"\n",
    "        assert state.shape == (self.board_size, self.board_size), \"incorrect state shape!\"\n",
    "        row, col = self.coord(action)\n",
    "        state[row, col] = player\n",
    "        return state\n",
    "\n",
    "    def coord(self, action):\n",
    "        assert action >= 0 and action < self.board_size**2, \"invalid action number!\"\n",
    "        return action//self.board_size, action%self.board_size\n",
    "    \n",
    "    def won(self, state, action):\n",
    "        if action is None:\n",
    "            return False\n",
    "        assert state.shape == (self.board_size, self.board_size), \"incorrect state shape!\"\n",
    "        row, col = self.coord(action)\n",
    "        player = state[row, col]\n",
    "        assert player != 0, \"player hasn't played yet!\"\n",
    "\n",
    "        row_full = np.sum(state[row, :]) == player * self.board_size\n",
    "        col_full = np.sum(state[:, col]) == player * self.board_size\n",
    "        diag_full = np.sum(np.diag(state)) == player * self.board_size\n",
    "        offdiag_full = np.sum(np.diag(np.fliplr(state))) == player * self.board_size\n",
    "    \n",
    "        return row_full or col_full or diag_full or offdiag_full\n",
    "        \n",
    "    def valid_moves(self, state):\n",
    "        return np.where(state.reshape(-1) == 0)[0]\n",
    "\n",
    "    def is_over(self, state, action):\n",
    "        '''\n",
    "        Return a pair (game_over, value) for the current state.\n",
    "        (True, 1) means game over and the player won.\n",
    "        (True, 0) means game over and is draw.\n",
    "        (False, 0) means game is not over.\n",
    "        '''\n",
    "        if self.won(state, action):\n",
    "            return True, 1\n",
    "        return (np.sum(state == 0) == 0), 0\n",
    "\n",
    "    def opponent(self, player):\n",
    "        assert player in {-1, 1}, \"player must be 1 or -1.\"\n",
    "        return -player\n",
    "    \n",
    "    def opponent_value(self, value):\n",
    "        return -value\n",
    "    \n",
    "    def change_perspective(self, state):\n",
    "        return -state \n",
    "    \n",
    "    def value(self, state, action):\n",
    "        if action is None:\n",
    "            return self.first_player\n",
    "        row, col = self.coord(action)\n",
    "        return state[row, col]"
   ]
  },
  {
   "cell_type": "markdown",
   "metadata": {},
   "source": [
    "## Human-Machine Play"
   ]
  },
  {
   "cell_type": "code",
   "execution_count": 178,
   "metadata": {},
   "outputs": [
    {
     "name": "stdout",
     "output_type": "stream",
     "text": [
      "[[0 0 0]\n",
      " [0 0 0]\n",
      " [0 0 0]]\n",
      "player '1' to play...\n",
      "valid moves: [0 1 2 3 4 5 6 7 8]\n",
      "[[0 0 0]\n",
      " [0 1 0]\n",
      " [0 0 0]]\n",
      "player '-1' to play...\n",
      "valid moves: [0 1 2 3 5 6 7 8]\n"
     ]
    },
    {
     "data": {
      "image/png": "[encoded data removed]",
      "text/plain": [
       "<Figure size 640x480 with 1 Axes>"
      ]
     },
     "metadata": {},
     "output_type": "display_data"
    },
    {
     "name": "stdout",
     "output_type": "stream",
     "text": [
      "[[ 0  0  0]\n",
      " [ 0  1  0]\n",
      " [-1  0  0]]\n",
      "player '1' to play...\n",
      "valid moves: [0 1 2 3 5 7 8]\n",
      "[[ 0  0  0]\n",
      " [ 0  1  0]\n",
      " [-1  1  0]]\n",
      "player '-1' to play...\n",
      "valid moves: [0 1 2 3 5 8]\n"
     ]
    },
    {
     "data": {
      "image/png": "[encoded data removed]",
      "text/plain": [
       "<Figure size 640x480 with 1 Axes>"
      ]
     },
     "metadata": {},
     "output_type": "display_data"
    },
    {
     "name": "stdout",
     "output_type": "stream",
     "text": [
      "[[ 0 -1  0]\n",
      " [ 0  1  0]\n",
      " [-1  1  0]]\n",
      "player '1' to play...\n",
      "valid moves: [0 2 3 5 8]\n",
      "[[ 1 -1  0]\n",
      " [ 0  1  0]\n",
      " [-1  1  0]]\n",
      "player '-1' to play...\n",
      "valid moves: [2 3 5 8]\n"
     ]
    },
    {
     "data": {
      "image/png": "[encoded data removed]",
      "text/plain": [
       "<Figure size 640x480 with 1 Axes>"
      ]
     },
     "metadata": {},
     "output_type": "display_data"
    },
    {
     "name": "stdout",
     "output_type": "stream",
     "text": [
      "[[ 1 -1  0]\n",
      " [ 0  1  0]\n",
      " [-1  1 -1]]\n",
      "player '1' to play...\n",
      "valid moves: [2 3 5]\n",
      "[[ 1 -1  0]\n",
      " [ 1  1  0]\n",
      " [-1  1 -1]]\n",
      "player '-1' to play...\n",
      "valid moves: [2 5]\n"
     ]
    },
    {
     "data": {
      "image/png": "[encoded data removed]",
      "text/plain": [
       "<Figure size 640x480 with 1 Axes>"
      ]
     },
     "metadata": {},
     "output_type": "display_data"
    },
    {
     "name": "stdout",
     "output_type": "stream",
     "text": [
      "[[ 1 -1  0]\n",
      " [ 1  1 -1]\n",
      " [-1  1 -1]]\n",
      "player '1' to play...\n",
      "valid moves: [2]\n",
      "[[ 1 -1  1]\n",
      " [ 1  1 -1]\n",
      " [-1  1 -1]]\n",
      "player '-1' to play...\n",
      "valid moves: []\n",
      "draw!\n"
     ]
    }
   ],
   "source": [
    "t3 = TicTacToe()\n",
    "state = t3.init_state()\n",
    "player = 1  # or -1\n",
    "\n",
    "mcts = MCTS(t3, params)\n",
    "\n",
    "while True:\n",
    "    print(state)\n",
    "    print(f\"player '{player}' to play...\")\n",
    "\n",
    "    valid_moves = t3.valid_moves(state)\n",
    "    print(f\"valid moves: {valid_moves}\")\n",
    "    \n",
    "    if len(valid_moves) == 0:\n",
    "        print(\"draw!\")\n",
    "        break        \n",
    "\n",
    "    if player == 1:\n",
    "        action = input(f\"provide a valid move: \")\n",
    "        action = int(action)\n",
    "    else:\n",
    "        # mcts sees the state from the perspective of player 1.\n",
    "        # since it's player -1 now, we change the perspective.\n",
    "        opponent_state = t3.change_perspective(state)\n",
    "        action_dist = mcts.search(opponent_state, params[\"num_iters\"])\n",
    "        plt.bar(range(len(action_dist)), action_dist)\n",
    "        plt.show()\n",
    "        action = np.argmax(action_dist)\n",
    "\n",
    "    state = t3.next_state(state, action, player)\n",
    "\n",
    "    if t3.won(state, action):\n",
    "        print(state)\n",
    "        print(f\"player {player} won!\")\n",
    "        break\n",
    "    \n",
    "    player = t3.opponent(player)\n"
   ]
  },
  {
   "cell_type": "markdown",
   "metadata": {},
   "source": [
    "## Machine-Machine Play"
   ]
  },
  {
   "cell_type": "code",
   "execution_count": 182,
   "metadata": {},
   "outputs": [
    {
     "name": "stdout",
     "output_type": "stream",
     "text": [
      "[[0 0 0]\n",
      " [0 0 0]\n",
      " [0 0 0]]\n",
      "player '-1' to play...\n",
      "valid moves: [0 1 2 3 4 5 6 7 8]\n"
     ]
    },
    {
     "data": {
      "image/png": "[encoded data removed]",
      "text/plain": [
       "<Figure size 640x480 with 1 Axes>"
      ]
     },
     "metadata": {},
     "output_type": "display_data"
    },
    {
     "name": "stdout",
     "output_type": "stream",
     "text": [
      "[[ 0  0  0]\n",
      " [ 0 -1  0]\n",
      " [ 0  0  0]]\n",
      "player '1' to play...\n",
      "valid moves: [0 1 2 3 5 6 7 8]\n"
     ]
    },
    {
     "data": {
      "image/png": "[encoded data removed]",
      "text/plain": [
       "<Figure size 640x480 with 1 Axes>"
      ]
     },
     "metadata": {},
     "output_type": "display_data"
    },
    {
     "name": "stdout",
     "output_type": "stream",
     "text": [
      "[[ 0  1  0]\n",
      " [ 0 -1  0]\n",
      " [ 0  0  0]]\n",
      "player '-1' to play...\n",
      "valid moves: [0 2 3 5 6 7 8]\n"
     ]
    },
    {
     "data": {
      "image/png": "[encoded data removed]",
      "text/plain": [
       "<Figure size 640x480 with 1 Axes>"
      ]
     },
     "metadata": {},
     "output_type": "display_data"
    },
    {
     "name": "stdout",
     "output_type": "stream",
     "text": [
      "[[-1  1  0]\n",
      " [ 0 -1  0]\n",
      " [ 0  0  0]]\n",
      "player '1' to play...\n",
      "valid moves: [2 3 5 6 7 8]\n"
     ]
    },
    {
     "data": {
      "image/png": "[encoded data removed]",
      "text/plain": [
       "<Figure size 640x480 with 1 Axes>"
      ]
     },
     "metadata": {},
     "output_type": "display_data"
    },
    {
     "name": "stdout",
     "output_type": "stream",
     "text": [
      "[[-1  1  0]\n",
      " [ 0 -1  0]\n",
      " [ 0  0  1]]\n",
      "player '-1' to play...\n",
      "valid moves: [2 3 5 6 7]\n"
     ]
    },
    {
     "data": {
      "image/png": "[encoded data removed]",
      "text/plain": [
       "<Figure size 640x480 with 1 Axes>"
      ]
     },
     "metadata": {},
     "output_type": "display_data"
    },
    {
     "name": "stdout",
     "output_type": "stream",
     "text": [
      "[[-1  1  0]\n",
      " [ 0 -1  0]\n",
      " [-1  0  1]]\n",
      "player '1' to play...\n",
      "valid moves: [2 3 5 7]\n"
     ]
    },
    {
     "data": {
      "image/png": "[encoded data removed]",
      "text/plain": [
       "<Figure size 640x480 with 1 Axes>"
      ]
     },
     "metadata": {},
     "output_type": "display_data"
    },
    {
     "name": "stdout",
     "output_type": "stream",
     "text": [
      "[[-1  1  1]\n",
      " [ 0 -1  0]\n",
      " [-1  0  1]]\n",
      "player '-1' to play...\n",
      "valid moves: [3 5 7]\n"
     ]
    },
    {
     "data": {
      "image/png": "[encoded data removed]",
      "text/plain": [
       "<Figure size 640x480 with 1 Axes>"
      ]
     },
     "metadata": {},
     "output_type": "display_data"
    },
    {
     "name": "stdout",
     "output_type": "stream",
     "text": [
      "[[-1  1  1]\n",
      " [-1 -1  0]\n",
      " [-1  0  1]]\n",
      "player -1 won!\n"
     ]
    }
   ],
   "source": [
    "t3 = TicTacToe()\n",
    "state = t3.init_state()\n",
    "player = -1  # or 1\n",
    "\n",
    "mcts = MCTS(t3, params)\n",
    "\n",
    "while True:\n",
    "    print(state)\n",
    "    print(f\"player '{player}' to play...\")\n",
    "\n",
    "    valid_moves = t3.valid_moves(state)\n",
    "    print(f\"valid moves: {valid_moves}\")\n",
    "    \n",
    "    if len(valid_moves) == 0:\n",
    "        print(\"draw!\")\n",
    "        break        \n",
    "\n",
    "    # mcts sees the state from the perspective of player 1.\n",
    "    # since it's player -1 now, we change the perspective.\n",
    "    opponent_state = t3.change_perspective(state)\n",
    "    action_dist = mcts.search(opponent_state, params[\"num_iters\"])\n",
    "    plt.bar(range(len(action_dist)), action_dist)\n",
    "    plt.show()\n",
    "    action = np.argmax(action_dist)\n",
    "\n",
    "    state = t3.next_state(state, action, player)\n",
    "\n",
    "    if t3.won(state, action):\n",
    "        print(state)\n",
    "        print(f\"player {player} won!\")\n",
    "        break\n",
    "    \n",
    "    player = t3.opponent(player)\n"
   ]
  }
 ],
 "metadata": {
  "kernelspec": {
   "display_name": "venv",
   "language": "python",
   "name": "python3"
  },
  "language_info": {
   "codemirror_mode": {
    "name": "ipython",
    "version": 3
   },
   "file_extension": ".py",
   "mimetype": "text/x-python",
   "name": "python",
   "nbconvert_exporter": "python",
   "pygments_lexer": "ipython3",
   "version": "3.12.3"
  }
 },
 "nbformat": 4,
 "nbformat_minor": 2
}
